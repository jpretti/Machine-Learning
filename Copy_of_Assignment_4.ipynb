{
  "nbformat": 4,
  "nbformat_minor": 0,
  "metadata": {
    "colab": {
      "name": "Copy of Assignment 4.ipynb",
      "provenance": [],
      "collapsed_sections": []
    },
    "kernelspec": {
      "name": "python3",
      "display_name": "Python 3"
    },
    "accelerator": "GPU"
  },
  "cells": [
    {
      "cell_type": "markdown",
      "metadata": {
        "id": "IDo6Mz1MoJxR",
        "colab_type": "text"
      },
      "source": [
        "# Assignment 4\n",
        "\n",
        "Turn in the assignment via Canvas.\n",
        "\n",
        "To write legible answers you will need to be familiar with both [Markdown](https://github.com/adam-p/markdown-here/wiki/Markdown-Cheatsheet) and [Latex](https://www.latex-tutorial.com/tutorials/amsmath/)\n",
        "\n",
        "Before you turn this problem in, make sure everything runs as expected. First, restart the kernel (in the menubar, select Runtime→→Restart runtime) and then run all cells (in the menubar, select Runtime→→Run All).\n",
        "\n",
        "Make sure you fill in any place that says \"YOUR CODE HERE\" or \"YOUR ANSWER HERE\", as well as your name below:"
      ]
    },
    {
      "cell_type": "code",
      "metadata": {
        "id": "nOfazHDtoJxS",
        "colab_type": "code",
        "colab": {}
      },
      "source": [
        "NAME = \"James Pretti\"\n",
        "STUDENT_ID = \"1676114\""
      ],
      "execution_count": 1,
      "outputs": []
    },
    {
      "cell_type": "code",
      "metadata": {
        "id": "8v9z0Mpb-BQP",
        "colab_type": "code",
        "colab": {
          "base_uri": "https://localhost:8080/",
          "height": 71
        },
        "outputId": "979ce96c-c6b5-40cf-f694-ee2c6dcd390e"
      },
      "source": [
        "# TensorFlow and tf.keras\n",
        "import tensorflow as tf\n",
        "from tensorflow import keras\n",
        "\n",
        "# Helper libraries\n",
        "import numpy as np\n",
        "import matplotlib.pyplot as plt\n",
        "\n",
        "import numpy as np\n",
        "import seaborn as sns\n",
        "import pandas as pd\n"
      ],
      "execution_count": 2,
      "outputs": [
        {
          "output_type": "stream",
          "text": [
            "/usr/local/lib/python3.6/dist-packages/statsmodels/tools/_testing.py:19: FutureWarning: pandas.util.testing is deprecated. Use the functions in the public API at pandas.testing instead.\n",
            "  import pandas.util.testing as tm\n"
          ],
          "name": "stderr"
        }
      ]
    },
    {
      "cell_type": "markdown",
      "metadata": {
        "id": "450ttnh1rTHv",
        "colab_type": "text"
      },
      "source": [
        "## Data Exploration and Preprocessing"
      ]
    },
    {
      "cell_type": "markdown",
      "metadata": {
        "id": "7Af39xEm-BQV",
        "colab_type": "text"
      },
      "source": [
        "### Load the Fashion-MNIST dataset\n",
        "Keras has lots of datsets that you can just load right into python numpy arrays, see: https://keras.io/datasets/\n",
        "\n",
        "We will be using the Fashion-MNIST dataset, which is a cool little dataset with gray scale $28\\times28$ images of articles of clothing.\n",
        "Keep in mind that they will be downloaded from the internet, so it may take a while."
      ]
    },
    {
      "cell_type": "code",
      "metadata": {
        "id": "riBPz-sW-BQW",
        "colab_type": "code",
        "colab": {}
      },
      "source": [
        "fashion_mnist = keras.datasets.fashion_mnist\n",
        "# splitting training and test data and corresponding labels \n",
        "(train_images, train_labels), (test_images, test_labels) = fashion_mnist.load_data()"
      ],
      "execution_count": 3,
      "outputs": []
    },
    {
      "cell_type": "code",
      "metadata": {
        "id": "yvKkk6RF-BQb",
        "colab_type": "code",
        "colab": {}
      },
      "source": [
        "class_names = ['T-shirt/top', 'Trouser', 'Pullover', 'Dress', 'Coat',\n",
        "               'Sandal', 'Shirt', 'Sneaker', 'Bag', 'Ankle boot']\n",
        "class_dict = {i:class_name for i,class_name in enumerate(class_names)}"
      ],
      "execution_count": 4,
      "outputs": []
    },
    {
      "cell_type": "code",
      "metadata": {
        "id": "dUMy4xjA-BQe",
        "colab_type": "code",
        "colab": {}
      },
      "source": [
        "def show_image(index):\n",
        "    plt.figure()\n",
        "    # cmap=plt.cm.binary allows us to show the picture in grayscale\n",
        "    plt.imshow(train_images[index], cmap=plt.cm.binary)\n",
        "    plt.title(class_names[train_labels[index]])\n",
        "    plt.colorbar() # adds a bar to the side with values\n",
        "    plt.show()"
      ],
      "execution_count": 5,
      "outputs": []
    },
    {
      "cell_type": "code",
      "metadata": {
        "id": "vLEyV9VJ-BQm",
        "colab_type": "code",
        "colab": {
          "base_uri": "https://localhost:8080/",
          "height": 281
        },
        "outputId": "4e365620-072d-4f7c-8596-2593e3163559"
      },
      "source": [
        "show_image(0)"
      ],
      "execution_count": 6,
      "outputs": [
        {
          "output_type": "display_data",
          "data": {
            "image/png": "[encoded data removed]",
            "text/plain": [
              "<Figure size 432x288 with 2 Axes>"
            ]
          },
          "metadata": {
            "tags": [],
            "needs_background": "light"
          }
        }
      ]
    },
    {
      "cell_type": "code",
      "metadata": {
        "id": "TlveGtQmiisg",
        "colab_type": "code",
        "colab": {
          "base_uri": "https://localhost:8080/",
          "height": 281
        },
        "outputId": "b4989143-88d8-4289-a869-ac6b8ff47642"
      },
      "source": [
        "show_image(1)"
      ],
      "execution_count": 7,
      "outputs": [
        {
          "output_type": "display_data",
          "data": {
            "image/png": "[encoded data removed]",
            "text/plain": [
              "<Figure size 432x288 with 2 Axes>"
            ]
          },
          "metadata": {
            "tags": [],
            "needs_background": "light"
          }
        }
      ]
    },
    {
      "cell_type": "code",
      "metadata": {
        "id": "dyHUnJ8KinYi",
        "colab_type": "code",
        "colab": {
          "base_uri": "https://localhost:8080/",
          "height": 281
        },
        "outputId": "ed54a026-375a-41dd-810a-6c0eb5cf4417"
      },
      "source": [
        "show_image(2)"
      ],
      "execution_count": 8,
      "outputs": [
        {
          "output_type": "display_data",
          "data": {
            "image/png": "[encoded data removed]",
            "text/plain": [
              "<Figure size 432x288 with 2 Axes>"
            ]
          },
          "metadata": {
            "tags": [],
            "needs_background": "light"
          }
        }
      ]
    },
    {
      "cell_type": "markdown",
      "metadata": {
        "id": "a9JIPCjflnFV",
        "colab_type": "text"
      },
      "source": [
        "## Question 1: Data Preprocessing\n",
        "As you can see above, the images are valued from $[0,255]$. This is the normal range for images. Recall from the previous lectures and excercises that we need to normalize our data.\n",
        "\n",
        "In order to normalize our data to $[0,1]$ we use the equation:\n",
        "\n",
        "$$x_{norm}=\\frac{x-x_{min}}{x_{max}-x_{min}}$$\n",
        "\n",
        "In our case we can assume that $x_{min}=0$ and $x_{max}=255$, this is a safe assumption since we are working with image data.\n",
        "\n",
        "This means that for image data, if we want to normlize to $[0,1]$ the equation simplifies to:\n",
        "\n",
        "$$img_{norm}=\\frac{img}{255}$$\n",
        "\n",
        "Anytime you work with image data in any kind of model you will be normalizing with this equation. Unless the range you want to normalize is different. Sometimes you want to normalize between $[-1,1]$, for that you would use a slightly different equation.\n",
        "\n",
        "\n"
      ]
    },
    {
      "cell_type": "markdown",
      "metadata": {
        "id": "eNlUuEcBfqzH",
        "colab_type": "text"
      },
      "source": [
        "### Question 1.1) Normalizing the data\n",
        "Normalize BOTH the training and testing images using the above equation."
      ]
    },
    {
      "cell_type": "code",
      "metadata": {
        "id": "rfN4Lkys-BQr",
        "colab_type": "code",
        "colab": {}
      },
      "source": [
        "### YOUR CODE HERE ###\n",
        "train_images = train_images / 255\n",
        "test_images = test_images / 255"
      ],
      "execution_count": 9,
      "outputs": []
    },
    {
      "cell_type": "markdown",
      "metadata": {
        "id": "-QumntnM-BQv",
        "colab_type": "text"
      },
      "source": [
        "If we show the image again, you will see the values are all scaled correctly."
      ]
    },
    {
      "cell_type": "code",
      "metadata": {
        "id": "o15roqPA-BQw",
        "colab_type": "code",
        "colab": {
          "base_uri": "https://localhost:8080/",
          "height": 281
        },
        "outputId": "20cd7dcd-feea-46d9-bb1c-b5981c46ddbb"
      },
      "source": [
        "show_image(0)"
      ],
      "execution_count": 10,
      "outputs": [
        {
          "output_type": "display_data",
          "data": {
            "image/png": "[encoded data removed]",
            "text/plain": [
              "<Figure size 432x288 with 2 Axes>"
            ]
          },
          "metadata": {
            "tags": [],
            "needs_background": "light"
          }
        }
      ]
    },
    {
      "cell_type": "code",
      "metadata": {
        "id": "bsg3Mbzb-BQ2",
        "colab_type": "code",
        "colab": {
          "base_uri": "https://localhost:8080/",
          "height": 589
        },
        "outputId": "70fd17c1-ae4c-47f0-bca7-7fd908817b6e"
      },
      "source": [
        "# Lets sample our data to see what kind of images are stored.\n",
        "# see documentation for subplot here:\n",
        "# https://matplotlib.org/3.2.1/api/_as_gen/matplotlib.pyplot.subplot.html\n",
        "plt.figure(figsize=(10,10))\n",
        "for i in range(25):\n",
        "    plt.subplot(5,5,i+1)\n",
        "    plt.xticks([])\n",
        "    plt.yticks([])\n",
        "    plt.grid(False)\n",
        "    plt.imshow(train_images[i], cmap=plt.cm.binary)\n",
        "    plt.xlabel(class_names[train_labels[i]])\n",
        "plt.show()"
      ],
      "execution_count": 11,
      "outputs": [
        {
          "output_type": "display_data",
          "data": {
            "image/png": "[encoded data removed]",
            "text/plain": [
              "<Figure size 720x720 with 25 Axes>"
            ]
          },
          "metadata": {
            "tags": []
          }
        }
      ]
    },
    {
      "cell_type": "markdown",
      "metadata": {
        "id": "ZAwvboqPf-B_",
        "colab_type": "text"
      },
      "source": [
        "### Question 1.2) Data Transformation\n",
        "Since our data is composed of grayscale images (one channel) with a resolution of $28\\times28$, we can think of this as the images existing in a $28\\times28=784$ dimensional space. This means that every single image in our dataset can be represented by a vector of length $784$.\n",
        "\n",
        "Please reshape BOTH the training and testing images to be $784D$. \n",
        "\n",
        "Hint: look into numpy.reshape().\n"
      ]
    },
    {
      "cell_type": "code",
      "metadata": {
        "id": "iJ--OeGe-BQ7",
        "colab_type": "code",
        "colab": {
          "base_uri": "https://localhost:8080/",
          "height": 51
        },
        "outputId": "00826814-c22b-4cc5-f3f4-951f5c7ac373"
      },
      "source": [
        "### YOUR CODE HERE ###\n",
        "\n",
        "print(f'Before reshape, train_images shape: {train_images.shape} test_images shape: {test_images.shape}')\n",
        "train_images = train_images.reshape(60000, 784,)\n",
        "test_images = test_images.reshape(10000, 784,)\n",
        "print(f'After reshape, train_images shape: {train_images.shape} test_images shape: {test_images.shape}')"
      ],
      "execution_count": 12,
      "outputs": [
        {
          "output_type": "stream",
          "text": [
            "Before reshape, train_images shape: (60000, 28, 28) test_images shape: (10000, 28, 28)\n",
            "After reshape, train_images shape: (60000, 784) test_images shape: (10000, 784)\n"
          ],
          "name": "stdout"
        }
      ]
    },
    {
      "cell_type": "markdown",
      "metadata": {
        "id": "tmk0lLTRg2wu",
        "colab_type": "text"
      },
      "source": [
        "We create a dataframe using our training and testing data to keep everything tidy."
      ]
    },
    {
      "cell_type": "code",
      "metadata": {
        "id": "_gMY-eeSlBqs",
        "colab_type": "code",
        "colab": {
          "base_uri": "https://localhost:8080/",
          "height": 321
        },
        "outputId": "b06bfbea-4ea8-4513-ee4e-dffded0bb56b"
      },
      "source": [
        "# Add training data into a dataframe\n",
        "img_data = {f\"z{i}\":train_images[:,i] for i in range(784)}\n",
        "img_data[\"label\"] = train_labels\n",
        "df_img_train = pd.DataFrame(img_data)\n",
        "df_img_train[\"class\"] = df_img_train[\"label\"].map(class_dict)\n",
        "df_img_train.head()"
      ],
      "execution_count": 13,
      "outputs": [
        {
          "output_type": "execute_result",
          "data": {
            "text/html": [
              "<div>\n",
              "<style scoped>\n",
              "    .dataframe tbody tr th:only-of-type {\n",
              "        vertical-align: middle;\n",
              "    }\n",
              "\n",
              "    .dataframe tbody tr th {\n",
              "        vertical-align: top;\n",
              "    }\n",
              "\n",
              "    .dataframe thead th {\n",
              "        text-align: right;\n",
              "    }\n",
              "</style>\n",
              "<table border=\"1\" class=\"dataframe\">\n",
              "  <thead>\n",
              "    <tr style=\"text-align: right;\">\n",
              "      <th></th>\n",
              "      <th>z0</th>\n",
              "      <th>z1</th>\n",
              "      <th>z2</th>\n",
              "      <th>z3</th>\n",
              "      <th>z4</th>\n",
              "      <th>z5</th>\n",
              "      <th>z6</th>\n",
              "      <th>z7</th>\n",
              "      <th>z8</th>\n",
              "      <th>z9</th>\n",
              "      <th>z10</th>\n",
              "      <th>z11</th>\n",
              "      <th>z12</th>\n",
              "      <th>z13</th>\n",
              "      <th>z14</th>\n",
              "      <th>z15</th>\n",
              "      <th>z16</th>\n",
              "      <th>z17</th>\n",
              "      <th>z18</th>\n",
              "      <th>z19</th>\n",
              "      <th>z20</th>\n",
              "      <th>z21</th>\n",
              "      <th>z22</th>\n",
              "      <th>z23</th>\n",
              "      <th>z24</th>\n",
              "      <th>z25</th>\n",
              "      <th>z26</th>\n",
              "      <th>z27</th>\n",
              "      <th>z28</th>\n",
              "      <th>z29</th>\n",
              "      <th>z30</th>\n",
              "      <th>z31</th>\n",
              "      <th>z32</th>\n",
              "      <th>z33</th>\n",
              "      <th>z34</th>\n",
              "      <th>z35</th>\n",
              "      <th>z36</th>\n",
              "      <th>z37</th>\n",
              "      <th>z38</th>\n",
              "      <th>z39</th>\n",
              "      <th>...</th>\n",
              "      <th>z746</th>\n",
              "      <th>z747</th>\n",
              "      <th>z748</th>\n",
              "      <th>z749</th>\n",
              "      <th>z750</th>\n",
              "      <th>z751</th>\n",
              "      <th>z752</th>\n",
              "      <th>z753</th>\n",
              "      <th>z754</th>\n",
              "      <th>z755</th>\n",
              "      <th>z756</th>\n",
              "      <th>z757</th>\n",
              "      <th>z758</th>\n",
              "      <th>z759</th>\n",
              "      <th>z760</th>\n",
              "      <th>z761</th>\n",
              "      <th>z762</th>\n",
              "      <th>z763</th>\n",
              "      <th>z764</th>\n",
              "      <th>z765</th>\n",
              "      <th>z766</th>\n",
              "      <th>z767</th>\n",
              "      <th>z768</th>\n",
              "      <th>z769</th>\n",
              "      <th>z770</th>\n",
              "      <th>z771</th>\n",
              "      <th>z772</th>\n",
              "      <th>z773</th>\n",
              "      <th>z774</th>\n",
              "      <th>z775</th>\n",
              "      <th>z776</th>\n",
              "      <th>z777</th>\n",
              "      <th>z778</th>\n",
              "      <th>z779</th>\n",
              "      <th>z780</th>\n",
              "      <th>z781</th>\n",
              "      <th>z782</th>\n",
              "      <th>z783</th>\n",
              "      <th>label</th>\n",
              "      <th>class</th>\n",
              "    </tr>\n",
              "  </thead>\n",
              "  <tbody>\n",
              "    <tr>\n",
              "      <th>0</th>\n",
              "      <td>0.0</td>\n",
              "      <td>0.0</td>\n",
              "      <td>0.0</td>\n",
              "      <td>0.0</td>\n",
              "      <td>0.0</td>\n",
              "      <td>0.000000</td>\n",
              "      <td>0.0</td>\n",
              "      <td>0.0</td>\n",
              "      <td>0.000000</td>\n",
              "      <td>0.000000</td>\n",
              "      <td>0.000000</td>\n",
              "      <td>0.000000</td>\n",
              "      <td>0.000000</td>\n",
              "      <td>0.000000</td>\n",
              "      <td>0.000000</td>\n",
              "      <td>0.000000</td>\n",
              "      <td>0.000000</td>\n",
              "      <td>0.000000</td>\n",
              "      <td>0.000000</td>\n",
              "      <td>0.000000</td>\n",
              "      <td>0.0</td>\n",
              "      <td>0.0</td>\n",
              "      <td>0.0</td>\n",
              "      <td>0.0</td>\n",
              "      <td>0.0</td>\n",
              "      <td>0.0</td>\n",
              "      <td>0.0</td>\n",
              "      <td>0.0</td>\n",
              "      <td>0.0</td>\n",
              "      <td>0.0</td>\n",
              "      <td>0.0</td>\n",
              "      <td>0.000000</td>\n",
              "      <td>0.0</td>\n",
              "      <td>0.0</td>\n",
              "      <td>0.000000</td>\n",
              "      <td>0.000000</td>\n",
              "      <td>0.000000</td>\n",
              "      <td>0.000000</td>\n",
              "      <td>0.000000</td>\n",
              "      <td>0.000000</td>\n",
              "      <td>...</td>\n",
              "      <td>0.000000</td>\n",
              "      <td>0.000000</td>\n",
              "      <td>0.000000</td>\n",
              "      <td>0.000000</td>\n",
              "      <td>0.000000</td>\n",
              "      <td>0.000000</td>\n",
              "      <td>0.0</td>\n",
              "      <td>0.0</td>\n",
              "      <td>0.0</td>\n",
              "      <td>0.0</td>\n",
              "      <td>0.0</td>\n",
              "      <td>0.0</td>\n",
              "      <td>0.0</td>\n",
              "      <td>0.0</td>\n",
              "      <td>0.0</td>\n",
              "      <td>0.000000</td>\n",
              "      <td>0.000000</td>\n",
              "      <td>0.0</td>\n",
              "      <td>0.000000</td>\n",
              "      <td>0.000000</td>\n",
              "      <td>0.000000</td>\n",
              "      <td>0.000000</td>\n",
              "      <td>0.000000</td>\n",
              "      <td>0.000000</td>\n",
              "      <td>0.000000</td>\n",
              "      <td>0.000000</td>\n",
              "      <td>0.000000</td>\n",
              "      <td>0.000000</td>\n",
              "      <td>0.000000</td>\n",
              "      <td>0.000000</td>\n",
              "      <td>0.000000</td>\n",
              "      <td>0.000000</td>\n",
              "      <td>0.0</td>\n",
              "      <td>0.0</td>\n",
              "      <td>0.0</td>\n",
              "      <td>0.0</td>\n",
              "      <td>0.0</td>\n",
              "      <td>0.0</td>\n",
              "      <td>9</td>\n",
              "      <td>Ankle boot</td>\n",
              "    </tr>\n",
              "    <tr>\n",
              "      <th>1</th>\n",
              "      <td>0.0</td>\n",
              "      <td>0.0</td>\n",
              "      <td>0.0</td>\n",
              "      <td>0.0</td>\n",
              "      <td>0.0</td>\n",
              "      <td>0.003922</td>\n",
              "      <td>0.0</td>\n",
              "      <td>0.0</td>\n",
              "      <td>0.000000</td>\n",
              "      <td>0.000000</td>\n",
              "      <td>0.160784</td>\n",
              "      <td>0.737255</td>\n",
              "      <td>0.403922</td>\n",
              "      <td>0.211765</td>\n",
              "      <td>0.188235</td>\n",
              "      <td>0.168627</td>\n",
              "      <td>0.341176</td>\n",
              "      <td>0.658824</td>\n",
              "      <td>0.521569</td>\n",
              "      <td>0.062745</td>\n",
              "      <td>0.0</td>\n",
              "      <td>0.0</td>\n",
              "      <td>0.0</td>\n",
              "      <td>0.0</td>\n",
              "      <td>0.0</td>\n",
              "      <td>0.0</td>\n",
              "      <td>0.0</td>\n",
              "      <td>0.0</td>\n",
              "      <td>0.0</td>\n",
              "      <td>0.0</td>\n",
              "      <td>0.0</td>\n",
              "      <td>0.003922</td>\n",
              "      <td>0.0</td>\n",
              "      <td>0.0</td>\n",
              "      <td>0.000000</td>\n",
              "      <td>0.192157</td>\n",
              "      <td>0.533333</td>\n",
              "      <td>0.858824</td>\n",
              "      <td>0.847059</td>\n",
              "      <td>0.894118</td>\n",
              "      <td>...</td>\n",
              "      <td>0.952941</td>\n",
              "      <td>0.839216</td>\n",
              "      <td>0.878431</td>\n",
              "      <td>0.635294</td>\n",
              "      <td>0.000000</td>\n",
              "      <td>0.007843</td>\n",
              "      <td>0.0</td>\n",
              "      <td>0.0</td>\n",
              "      <td>0.0</td>\n",
              "      <td>0.0</td>\n",
              "      <td>0.0</td>\n",
              "      <td>0.0</td>\n",
              "      <td>0.0</td>\n",
              "      <td>0.0</td>\n",
              "      <td>0.0</td>\n",
              "      <td>0.003922</td>\n",
              "      <td>0.000000</td>\n",
              "      <td>0.0</td>\n",
              "      <td>0.545098</td>\n",
              "      <td>0.572549</td>\n",
              "      <td>0.509804</td>\n",
              "      <td>0.529412</td>\n",
              "      <td>0.529412</td>\n",
              "      <td>0.537255</td>\n",
              "      <td>0.490196</td>\n",
              "      <td>0.486275</td>\n",
              "      <td>0.490196</td>\n",
              "      <td>0.474510</td>\n",
              "      <td>0.466667</td>\n",
              "      <td>0.447059</td>\n",
              "      <td>0.509804</td>\n",
              "      <td>0.298039</td>\n",
              "      <td>0.0</td>\n",
              "      <td>0.0</td>\n",
              "      <td>0.0</td>\n",
              "      <td>0.0</td>\n",
              "      <td>0.0</td>\n",
              "      <td>0.0</td>\n",
              "      <td>0</td>\n",
              "      <td>T-shirt/top</td>\n",
              "    </tr>\n",
              "    <tr>\n",
              "      <th>2</th>\n",
              "      <td>0.0</td>\n",
              "      <td>0.0</td>\n",
              "      <td>0.0</td>\n",
              "      <td>0.0</td>\n",
              "      <td>0.0</td>\n",
              "      <td>0.000000</td>\n",
              "      <td>0.0</td>\n",
              "      <td>0.0</td>\n",
              "      <td>0.000000</td>\n",
              "      <td>0.086275</td>\n",
              "      <td>0.462745</td>\n",
              "      <td>0.094118</td>\n",
              "      <td>0.000000</td>\n",
              "      <td>0.000000</td>\n",
              "      <td>0.000000</td>\n",
              "      <td>0.000000</td>\n",
              "      <td>0.000000</td>\n",
              "      <td>0.188235</td>\n",
              "      <td>0.345098</td>\n",
              "      <td>0.019608</td>\n",
              "      <td>0.0</td>\n",
              "      <td>0.0</td>\n",
              "      <td>0.0</td>\n",
              "      <td>0.0</td>\n",
              "      <td>0.0</td>\n",
              "      <td>0.0</td>\n",
              "      <td>0.0</td>\n",
              "      <td>0.0</td>\n",
              "      <td>0.0</td>\n",
              "      <td>0.0</td>\n",
              "      <td>0.0</td>\n",
              "      <td>0.000000</td>\n",
              "      <td>0.0</td>\n",
              "      <td>0.0</td>\n",
              "      <td>0.000000</td>\n",
              "      <td>0.000000</td>\n",
              "      <td>0.047059</td>\n",
              "      <td>0.392157</td>\n",
              "      <td>0.831373</td>\n",
              "      <td>0.803922</td>\n",
              "      <td>...</td>\n",
              "      <td>0.294118</td>\n",
              "      <td>0.039216</td>\n",
              "      <td>0.000000</td>\n",
              "      <td>0.000000</td>\n",
              "      <td>0.000000</td>\n",
              "      <td>0.000000</td>\n",
              "      <td>0.0</td>\n",
              "      <td>0.0</td>\n",
              "      <td>0.0</td>\n",
              "      <td>0.0</td>\n",
              "      <td>0.0</td>\n",
              "      <td>0.0</td>\n",
              "      <td>0.0</td>\n",
              "      <td>0.0</td>\n",
              "      <td>0.0</td>\n",
              "      <td>0.000000</td>\n",
              "      <td>0.000000</td>\n",
              "      <td>0.0</td>\n",
              "      <td>0.003922</td>\n",
              "      <td>0.000000</td>\n",
              "      <td>0.000000</td>\n",
              "      <td>0.000000</td>\n",
              "      <td>0.070588</td>\n",
              "      <td>0.164706</td>\n",
              "      <td>0.223529</td>\n",
              "      <td>0.219608</td>\n",
              "      <td>0.125490</td>\n",
              "      <td>0.031373</td>\n",
              "      <td>0.000000</td>\n",
              "      <td>0.000000</td>\n",
              "      <td>0.003922</td>\n",
              "      <td>0.000000</td>\n",
              "      <td>0.0</td>\n",
              "      <td>0.0</td>\n",
              "      <td>0.0</td>\n",
              "      <td>0.0</td>\n",
              "      <td>0.0</td>\n",
              "      <td>0.0</td>\n",
              "      <td>0</td>\n",
              "      <td>T-shirt/top</td>\n",
              "    </tr>\n",
              "    <tr>\n",
              "      <th>3</th>\n",
              "      <td>0.0</td>\n",
              "      <td>0.0</td>\n",
              "      <td>0.0</td>\n",
              "      <td>0.0</td>\n",
              "      <td>0.0</td>\n",
              "      <td>0.000000</td>\n",
              "      <td>0.0</td>\n",
              "      <td>0.0</td>\n",
              "      <td>0.129412</td>\n",
              "      <td>0.376471</td>\n",
              "      <td>0.686275</td>\n",
              "      <td>0.611765</td>\n",
              "      <td>0.250980</td>\n",
              "      <td>0.054902</td>\n",
              "      <td>0.211765</td>\n",
              "      <td>0.537255</td>\n",
              "      <td>0.800000</td>\n",
              "      <td>0.760784</td>\n",
              "      <td>0.400000</td>\n",
              "      <td>0.000000</td>\n",
              "      <td>0.0</td>\n",
              "      <td>0.0</td>\n",
              "      <td>0.0</td>\n",
              "      <td>0.0</td>\n",
              "      <td>0.0</td>\n",
              "      <td>0.0</td>\n",
              "      <td>0.0</td>\n",
              "      <td>0.0</td>\n",
              "      <td>0.0</td>\n",
              "      <td>0.0</td>\n",
              "      <td>0.0</td>\n",
              "      <td>0.000000</td>\n",
              "      <td>0.0</td>\n",
              "      <td>0.0</td>\n",
              "      <td>0.286275</td>\n",
              "      <td>0.729412</td>\n",
              "      <td>0.694118</td>\n",
              "      <td>0.717647</td>\n",
              "      <td>0.686275</td>\n",
              "      <td>0.737255</td>\n",
              "      <td>...</td>\n",
              "      <td>0.333333</td>\n",
              "      <td>0.627451</td>\n",
              "      <td>0.521569</td>\n",
              "      <td>0.392157</td>\n",
              "      <td>0.047059</td>\n",
              "      <td>0.000000</td>\n",
              "      <td>0.0</td>\n",
              "      <td>0.0</td>\n",
              "      <td>0.0</td>\n",
              "      <td>0.0</td>\n",
              "      <td>0.0</td>\n",
              "      <td>0.0</td>\n",
              "      <td>0.0</td>\n",
              "      <td>0.0</td>\n",
              "      <td>0.0</td>\n",
              "      <td>0.000000</td>\n",
              "      <td>0.015686</td>\n",
              "      <td>0.0</td>\n",
              "      <td>0.007843</td>\n",
              "      <td>0.000000</td>\n",
              "      <td>0.137255</td>\n",
              "      <td>0.015686</td>\n",
              "      <td>0.129412</td>\n",
              "      <td>0.000000</td>\n",
              "      <td>0.000000</td>\n",
              "      <td>0.000000</td>\n",
              "      <td>0.000000</td>\n",
              "      <td>0.000000</td>\n",
              "      <td>0.000000</td>\n",
              "      <td>0.000000</td>\n",
              "      <td>0.000000</td>\n",
              "      <td>0.000000</td>\n",
              "      <td>0.0</td>\n",
              "      <td>0.0</td>\n",
              "      <td>0.0</td>\n",
              "      <td>0.0</td>\n",
              "      <td>0.0</td>\n",
              "      <td>0.0</td>\n",
              "      <td>3</td>\n",
              "      <td>Dress</td>\n",
              "    </tr>\n",
              "    <tr>\n",
              "      <th>4</th>\n",
              "      <td>0.0</td>\n",
              "      <td>0.0</td>\n",
              "      <td>0.0</td>\n",
              "      <td>0.0</td>\n",
              "      <td>0.0</td>\n",
              "      <td>0.000000</td>\n",
              "      <td>0.0</td>\n",
              "      <td>0.0</td>\n",
              "      <td>0.000000</td>\n",
              "      <td>0.000000</td>\n",
              "      <td>0.000000</td>\n",
              "      <td>0.000000</td>\n",
              "      <td>0.000000</td>\n",
              "      <td>0.000000</td>\n",
              "      <td>0.000000</td>\n",
              "      <td>0.000000</td>\n",
              "      <td>0.000000</td>\n",
              "      <td>0.101961</td>\n",
              "      <td>0.000000</td>\n",
              "      <td>0.000000</td>\n",
              "      <td>0.0</td>\n",
              "      <td>0.0</td>\n",
              "      <td>0.0</td>\n",
              "      <td>0.0</td>\n",
              "      <td>0.0</td>\n",
              "      <td>0.0</td>\n",
              "      <td>0.0</td>\n",
              "      <td>0.0</td>\n",
              "      <td>0.0</td>\n",
              "      <td>0.0</td>\n",
              "      <td>0.0</td>\n",
              "      <td>0.000000</td>\n",
              "      <td>0.0</td>\n",
              "      <td>0.0</td>\n",
              "      <td>0.000000</td>\n",
              "      <td>0.000000</td>\n",
              "      <td>0.741176</td>\n",
              "      <td>0.807843</td>\n",
              "      <td>0.733333</td>\n",
              "      <td>0.125490</td>\n",
              "      <td>...</td>\n",
              "      <td>1.000000</td>\n",
              "      <td>0.274510</td>\n",
              "      <td>0.000000</td>\n",
              "      <td>0.000000</td>\n",
              "      <td>0.000000</td>\n",
              "      <td>0.000000</td>\n",
              "      <td>0.0</td>\n",
              "      <td>0.0</td>\n",
              "      <td>0.0</td>\n",
              "      <td>0.0</td>\n",
              "      <td>0.0</td>\n",
              "      <td>0.0</td>\n",
              "      <td>0.0</td>\n",
              "      <td>0.0</td>\n",
              "      <td>0.0</td>\n",
              "      <td>0.000000</td>\n",
              "      <td>0.000000</td>\n",
              "      <td>0.0</td>\n",
              "      <td>0.000000</td>\n",
              "      <td>0.000000</td>\n",
              "      <td>0.239216</td>\n",
              "      <td>0.400000</td>\n",
              "      <td>0.658824</td>\n",
              "      <td>0.098039</td>\n",
              "      <td>0.000000</td>\n",
              "      <td>0.545098</td>\n",
              "      <td>0.631373</td>\n",
              "      <td>0.290196</td>\n",
              "      <td>0.000000</td>\n",
              "      <td>0.000000</td>\n",
              "      <td>0.000000</td>\n",
              "      <td>0.000000</td>\n",
              "      <td>0.0</td>\n",
              "      <td>0.0</td>\n",
              "      <td>0.0</td>\n",
              "      <td>0.0</td>\n",
              "      <td>0.0</td>\n",
              "      <td>0.0</td>\n",
              "      <td>0</td>\n",
              "      <td>T-shirt/top</td>\n",
              "    </tr>\n",
              "  </tbody>\n",
              "</table>\n",
              "<p>5 rows × 786 columns</p>\n",
              "</div>"
            ],
            "text/plain": [
              "    z0   z1   z2   z3   z4  ...  z781  z782  z783  label        class\n",
              "0  0.0  0.0  0.0  0.0  0.0  ...   0.0   0.0   0.0      9   Ankle boot\n",
              "1  0.0  0.0  0.0  0.0  0.0  ...   0.0   0.0   0.0      0  T-shirt/top\n",
              "2  0.0  0.0  0.0  0.0  0.0  ...   0.0   0.0   0.0      0  T-shirt/top\n",
              "3  0.0  0.0  0.0  0.0  0.0  ...   0.0   0.0   0.0      3        Dress\n",
              "4  0.0  0.0  0.0  0.0  0.0  ...   0.0   0.0   0.0      0  T-shirt/top\n",
              "\n",
              "[5 rows x 786 columns]"
            ]
          },
          "metadata": {
            "tags": []
          },
          "execution_count": 13
        }
      ]
    },
    {
      "cell_type": "code",
      "metadata": {
        "id": "f4Cwpg90Grrx",
        "colab_type": "code",
        "colab": {
          "base_uri": "https://localhost:8080/",
          "height": 270
        },
        "outputId": "69b85cbf-0be9-4f66-81ac-b4b9d8ccc72a"
      },
      "source": [
        "# Add test data into a dataframe\n",
        "img_data = {f\"z{i}\":test_images[:,i] for i in range(784)}\n",
        "img_data[\"label\"] = test_labels\n",
        "df_img_test = pd.DataFrame(img_data)\n",
        "df_img_test[\"class\"] = df_img_test[\"label\"].map(class_dict)\n",
        "df_img_test.head()"
      ],
      "execution_count": 14,
      "outputs": [
        {
          "output_type": "execute_result",
          "data": {
            "text/html": [
              "<div>\n",
              "<style scoped>\n",
              "    .dataframe tbody tr th:only-of-type {\n",
              "        vertical-align: middle;\n",
              "    }\n",
              "\n",
              "    .dataframe tbody tr th {\n",
              "        vertical-align: top;\n",
              "    }\n",
              "\n",
              "    .dataframe thead th {\n",
              "        text-align: right;\n",
              "    }\n",
              "</style>\n",
              "<table border=\"1\" class=\"dataframe\">\n",
              "  <thead>\n",
              "    <tr style=\"text-align: right;\">\n",
              "      <th></th>\n",
              "      <th>z0</th>\n",
              "      <th>z1</th>\n",
              "      <th>z2</th>\n",
              "      <th>z3</th>\n",
              "      <th>z4</th>\n",
              "      <th>z5</th>\n",
              "      <th>z6</th>\n",
              "      <th>z7</th>\n",
              "      <th>z8</th>\n",
              "      <th>z9</th>\n",
              "      <th>z10</th>\n",
              "      <th>z11</th>\n",
              "      <th>z12</th>\n",
              "      <th>z13</th>\n",
              "      <th>z14</th>\n",
              "      <th>z15</th>\n",
              "      <th>z16</th>\n",
              "      <th>z17</th>\n",
              "      <th>z18</th>\n",
              "      <th>z19</th>\n",
              "      <th>z20</th>\n",
              "      <th>z21</th>\n",
              "      <th>z22</th>\n",
              "      <th>z23</th>\n",
              "      <th>z24</th>\n",
              "      <th>z25</th>\n",
              "      <th>z26</th>\n",
              "      <th>z27</th>\n",
              "      <th>z28</th>\n",
              "      <th>z29</th>\n",
              "      <th>z30</th>\n",
              "      <th>z31</th>\n",
              "      <th>z32</th>\n",
              "      <th>z33</th>\n",
              "      <th>z34</th>\n",
              "      <th>z35</th>\n",
              "      <th>z36</th>\n",
              "      <th>z37</th>\n",
              "      <th>z38</th>\n",
              "      <th>z39</th>\n",
              "      <th>...</th>\n",
              "      <th>z746</th>\n",
              "      <th>z747</th>\n",
              "      <th>z748</th>\n",
              "      <th>z749</th>\n",
              "      <th>z750</th>\n",
              "      <th>z751</th>\n",
              "      <th>z752</th>\n",
              "      <th>z753</th>\n",
              "      <th>z754</th>\n",
              "      <th>z755</th>\n",
              "      <th>z756</th>\n",
              "      <th>z757</th>\n",
              "      <th>z758</th>\n",
              "      <th>z759</th>\n",
              "      <th>z760</th>\n",
              "      <th>z761</th>\n",
              "      <th>z762</th>\n",
              "      <th>z763</th>\n",
              "      <th>z764</th>\n",
              "      <th>z765</th>\n",
              "      <th>z766</th>\n",
              "      <th>z767</th>\n",
              "      <th>z768</th>\n",
              "      <th>z769</th>\n",
              "      <th>z770</th>\n",
              "      <th>z771</th>\n",
              "      <th>z772</th>\n",
              "      <th>z773</th>\n",
              "      <th>z774</th>\n",
              "      <th>z775</th>\n",
              "      <th>z776</th>\n",
              "      <th>z777</th>\n",
              "      <th>z778</th>\n",
              "      <th>z779</th>\n",
              "      <th>z780</th>\n",
              "      <th>z781</th>\n",
              "      <th>z782</th>\n",
              "      <th>z783</th>\n",
              "      <th>label</th>\n",
              "      <th>class</th>\n",
              "    </tr>\n",
              "  </thead>\n",
              "  <tbody>\n",
              "    <tr>\n",
              "      <th>0</th>\n",
              "      <td>0.0</td>\n",
              "      <td>0.0</td>\n",
              "      <td>0.0</td>\n",
              "      <td>0.000000</td>\n",
              "      <td>0.0</td>\n",
              "      <td>0.000000</td>\n",
              "      <td>0.000000</td>\n",
              "      <td>0.0</td>\n",
              "      <td>0.000000</td>\n",
              "      <td>0.000000</td>\n",
              "      <td>0.000000</td>\n",
              "      <td>0.000000</td>\n",
              "      <td>0.000000</td>\n",
              "      <td>0.000000</td>\n",
              "      <td>0.000000</td>\n",
              "      <td>0.000000</td>\n",
              "      <td>0.000000</td>\n",
              "      <td>0.000000</td>\n",
              "      <td>0.000000</td>\n",
              "      <td>0.000000</td>\n",
              "      <td>0.0</td>\n",
              "      <td>0.0</td>\n",
              "      <td>0.0</td>\n",
              "      <td>0.0</td>\n",
              "      <td>0.0</td>\n",
              "      <td>0.0</td>\n",
              "      <td>0.0</td>\n",
              "      <td>0.0</td>\n",
              "      <td>0.0</td>\n",
              "      <td>0.0</td>\n",
              "      <td>0.0</td>\n",
              "      <td>0.000000</td>\n",
              "      <td>0.000000</td>\n",
              "      <td>0.000000</td>\n",
              "      <td>0.0</td>\n",
              "      <td>0.000000</td>\n",
              "      <td>0.000000</td>\n",
              "      <td>0.000000</td>\n",
              "      <td>0.000000</td>\n",
              "      <td>0.000000</td>\n",
              "      <td>...</td>\n",
              "      <td>0.000000</td>\n",
              "      <td>0.000000</td>\n",
              "      <td>0.000000</td>\n",
              "      <td>0.000000</td>\n",
              "      <td>0.000000</td>\n",
              "      <td>0.0</td>\n",
              "      <td>0.000000</td>\n",
              "      <td>0.0</td>\n",
              "      <td>0.0</td>\n",
              "      <td>0.0</td>\n",
              "      <td>0.0</td>\n",
              "      <td>0.0</td>\n",
              "      <td>0.0</td>\n",
              "      <td>0.0</td>\n",
              "      <td>0.000000</td>\n",
              "      <td>0.000000</td>\n",
              "      <td>0.000000</td>\n",
              "      <td>0.000000</td>\n",
              "      <td>0.0</td>\n",
              "      <td>0.000000</td>\n",
              "      <td>0.000000</td>\n",
              "      <td>0.000000</td>\n",
              "      <td>0.000000</td>\n",
              "      <td>0.000000</td>\n",
              "      <td>0.000000</td>\n",
              "      <td>0.000000</td>\n",
              "      <td>0.000000</td>\n",
              "      <td>0.000000</td>\n",
              "      <td>0.000000</td>\n",
              "      <td>0.000000</td>\n",
              "      <td>0.0</td>\n",
              "      <td>0.000000</td>\n",
              "      <td>0.000000</td>\n",
              "      <td>0.000000</td>\n",
              "      <td>0.000000</td>\n",
              "      <td>0.0</td>\n",
              "      <td>0.0</td>\n",
              "      <td>0.0</td>\n",
              "      <td>9</td>\n",
              "      <td>Ankle boot</td>\n",
              "    </tr>\n",
              "    <tr>\n",
              "      <th>1</th>\n",
              "      <td>0.0</td>\n",
              "      <td>0.0</td>\n",
              "      <td>0.0</td>\n",
              "      <td>0.000000</td>\n",
              "      <td>0.0</td>\n",
              "      <td>0.000000</td>\n",
              "      <td>0.000000</td>\n",
              "      <td>0.0</td>\n",
              "      <td>0.000000</td>\n",
              "      <td>0.000000</td>\n",
              "      <td>0.050980</td>\n",
              "      <td>0.262745</td>\n",
              "      <td>0.000000</td>\n",
              "      <td>0.000000</td>\n",
              "      <td>0.000000</td>\n",
              "      <td>0.000000</td>\n",
              "      <td>0.196078</td>\n",
              "      <td>0.149020</td>\n",
              "      <td>0.000000</td>\n",
              "      <td>0.000000</td>\n",
              "      <td>0.0</td>\n",
              "      <td>0.0</td>\n",
              "      <td>0.0</td>\n",
              "      <td>0.0</td>\n",
              "      <td>0.0</td>\n",
              "      <td>0.0</td>\n",
              "      <td>0.0</td>\n",
              "      <td>0.0</td>\n",
              "      <td>0.0</td>\n",
              "      <td>0.0</td>\n",
              "      <td>0.0</td>\n",
              "      <td>0.000000</td>\n",
              "      <td>0.000000</td>\n",
              "      <td>0.000000</td>\n",
              "      <td>0.0</td>\n",
              "      <td>0.031373</td>\n",
              "      <td>0.470588</td>\n",
              "      <td>0.819608</td>\n",
              "      <td>0.886275</td>\n",
              "      <td>0.968627</td>\n",
              "      <td>...</td>\n",
              "      <td>0.000000</td>\n",
              "      <td>0.000000</td>\n",
              "      <td>0.000000</td>\n",
              "      <td>0.152941</td>\n",
              "      <td>0.976471</td>\n",
              "      <td>1.0</td>\n",
              "      <td>0.482353</td>\n",
              "      <td>0.0</td>\n",
              "      <td>0.0</td>\n",
              "      <td>0.0</td>\n",
              "      <td>0.0</td>\n",
              "      <td>0.0</td>\n",
              "      <td>0.0</td>\n",
              "      <td>0.0</td>\n",
              "      <td>0.192157</td>\n",
              "      <td>0.803922</td>\n",
              "      <td>0.772549</td>\n",
              "      <td>0.043137</td>\n",
              "      <td>0.0</td>\n",
              "      <td>0.015686</td>\n",
              "      <td>0.003922</td>\n",
              "      <td>0.007843</td>\n",
              "      <td>0.007843</td>\n",
              "      <td>0.007843</td>\n",
              "      <td>0.007843</td>\n",
              "      <td>0.007843</td>\n",
              "      <td>0.007843</td>\n",
              "      <td>0.007843</td>\n",
              "      <td>0.007843</td>\n",
              "      <td>0.011765</td>\n",
              "      <td>0.0</td>\n",
              "      <td>0.011765</td>\n",
              "      <td>0.682353</td>\n",
              "      <td>0.741176</td>\n",
              "      <td>0.262745</td>\n",
              "      <td>0.0</td>\n",
              "      <td>0.0</td>\n",
              "      <td>0.0</td>\n",
              "      <td>2</td>\n",
              "      <td>Pullover</td>\n",
              "    </tr>\n",
              "    <tr>\n",
              "      <th>2</th>\n",
              "      <td>0.0</td>\n",
              "      <td>0.0</td>\n",
              "      <td>0.0</td>\n",
              "      <td>0.000000</td>\n",
              "      <td>0.0</td>\n",
              "      <td>0.000000</td>\n",
              "      <td>0.000000</td>\n",
              "      <td>0.0</td>\n",
              "      <td>0.003922</td>\n",
              "      <td>0.000000</td>\n",
              "      <td>0.262745</td>\n",
              "      <td>0.694118</td>\n",
              "      <td>0.505882</td>\n",
              "      <td>0.600000</td>\n",
              "      <td>0.458824</td>\n",
              "      <td>0.505882</td>\n",
              "      <td>0.572549</td>\n",
              "      <td>0.552941</td>\n",
              "      <td>0.686275</td>\n",
              "      <td>0.000000</td>\n",
              "      <td>0.0</td>\n",
              "      <td>0.0</td>\n",
              "      <td>0.0</td>\n",
              "      <td>0.0</td>\n",
              "      <td>0.0</td>\n",
              "      <td>0.0</td>\n",
              "      <td>0.0</td>\n",
              "      <td>0.0</td>\n",
              "      <td>0.0</td>\n",
              "      <td>0.0</td>\n",
              "      <td>0.0</td>\n",
              "      <td>0.000000</td>\n",
              "      <td>0.000000</td>\n",
              "      <td>0.000000</td>\n",
              "      <td>0.0</td>\n",
              "      <td>0.000000</td>\n",
              "      <td>0.007843</td>\n",
              "      <td>0.000000</td>\n",
              "      <td>0.768627</td>\n",
              "      <td>1.000000</td>\n",
              "      <td>...</td>\n",
              "      <td>0.988235</td>\n",
              "      <td>0.466667</td>\n",
              "      <td>0.000000</td>\n",
              "      <td>0.000000</td>\n",
              "      <td>0.000000</td>\n",
              "      <td>0.0</td>\n",
              "      <td>0.000000</td>\n",
              "      <td>0.0</td>\n",
              "      <td>0.0</td>\n",
              "      <td>0.0</td>\n",
              "      <td>0.0</td>\n",
              "      <td>0.0</td>\n",
              "      <td>0.0</td>\n",
              "      <td>0.0</td>\n",
              "      <td>0.000000</td>\n",
              "      <td>0.000000</td>\n",
              "      <td>0.000000</td>\n",
              "      <td>0.000000</td>\n",
              "      <td>0.0</td>\n",
              "      <td>0.000000</td>\n",
              "      <td>0.000000</td>\n",
              "      <td>0.384314</td>\n",
              "      <td>0.623529</td>\n",
              "      <td>0.278431</td>\n",
              "      <td>0.000000</td>\n",
              "      <td>0.000000</td>\n",
              "      <td>0.266667</td>\n",
              "      <td>0.690196</td>\n",
              "      <td>0.643137</td>\n",
              "      <td>0.227451</td>\n",
              "      <td>0.0</td>\n",
              "      <td>0.000000</td>\n",
              "      <td>0.000000</td>\n",
              "      <td>0.000000</td>\n",
              "      <td>0.000000</td>\n",
              "      <td>0.0</td>\n",
              "      <td>0.0</td>\n",
              "      <td>0.0</td>\n",
              "      <td>1</td>\n",
              "      <td>Trouser</td>\n",
              "    </tr>\n",
              "    <tr>\n",
              "      <th>3</th>\n",
              "      <td>0.0</td>\n",
              "      <td>0.0</td>\n",
              "      <td>0.0</td>\n",
              "      <td>0.000000</td>\n",
              "      <td>0.0</td>\n",
              "      <td>0.000000</td>\n",
              "      <td>0.000000</td>\n",
              "      <td>0.0</td>\n",
              "      <td>0.000000</td>\n",
              "      <td>0.082353</td>\n",
              "      <td>0.482353</td>\n",
              "      <td>0.423529</td>\n",
              "      <td>0.388235</td>\n",
              "      <td>0.388235</td>\n",
              "      <td>0.329412</td>\n",
              "      <td>0.325490</td>\n",
              "      <td>0.337255</td>\n",
              "      <td>0.360784</td>\n",
              "      <td>0.274510</td>\n",
              "      <td>0.023529</td>\n",
              "      <td>0.0</td>\n",
              "      <td>0.0</td>\n",
              "      <td>0.0</td>\n",
              "      <td>0.0</td>\n",
              "      <td>0.0</td>\n",
              "      <td>0.0</td>\n",
              "      <td>0.0</td>\n",
              "      <td>0.0</td>\n",
              "      <td>0.0</td>\n",
              "      <td>0.0</td>\n",
              "      <td>0.0</td>\n",
              "      <td>0.000000</td>\n",
              "      <td>0.000000</td>\n",
              "      <td>0.000000</td>\n",
              "      <td>0.0</td>\n",
              "      <td>0.000000</td>\n",
              "      <td>0.000000</td>\n",
              "      <td>0.415686</td>\n",
              "      <td>0.972549</td>\n",
              "      <td>0.901961</td>\n",
              "      <td>...</td>\n",
              "      <td>0.180392</td>\n",
              "      <td>0.000000</td>\n",
              "      <td>0.000000</td>\n",
              "      <td>0.000000</td>\n",
              "      <td>0.000000</td>\n",
              "      <td>0.0</td>\n",
              "      <td>0.000000</td>\n",
              "      <td>0.0</td>\n",
              "      <td>0.0</td>\n",
              "      <td>0.0</td>\n",
              "      <td>0.0</td>\n",
              "      <td>0.0</td>\n",
              "      <td>0.0</td>\n",
              "      <td>0.0</td>\n",
              "      <td>0.000000</td>\n",
              "      <td>0.000000</td>\n",
              "      <td>0.000000</td>\n",
              "      <td>0.000000</td>\n",
              "      <td>0.0</td>\n",
              "      <td>0.000000</td>\n",
              "      <td>0.078431</td>\n",
              "      <td>0.682353</td>\n",
              "      <td>0.396078</td>\n",
              "      <td>0.000000</td>\n",
              "      <td>0.000000</td>\n",
              "      <td>0.000000</td>\n",
              "      <td>0.572549</td>\n",
              "      <td>0.572549</td>\n",
              "      <td>0.003922</td>\n",
              "      <td>0.000000</td>\n",
              "      <td>0.0</td>\n",
              "      <td>0.000000</td>\n",
              "      <td>0.000000</td>\n",
              "      <td>0.000000</td>\n",
              "      <td>0.000000</td>\n",
              "      <td>0.0</td>\n",
              "      <td>0.0</td>\n",
              "      <td>0.0</td>\n",
              "      <td>1</td>\n",
              "      <td>Trouser</td>\n",
              "    </tr>\n",
              "    <tr>\n",
              "      <th>4</th>\n",
              "      <td>0.0</td>\n",
              "      <td>0.0</td>\n",
              "      <td>0.0</td>\n",
              "      <td>0.007843</td>\n",
              "      <td>0.0</td>\n",
              "      <td>0.003922</td>\n",
              "      <td>0.003922</td>\n",
              "      <td>0.0</td>\n",
              "      <td>0.000000</td>\n",
              "      <td>0.000000</td>\n",
              "      <td>0.000000</td>\n",
              "      <td>0.223529</td>\n",
              "      <td>0.262745</td>\n",
              "      <td>0.286275</td>\n",
              "      <td>0.298039</td>\n",
              "      <td>0.298039</td>\n",
              "      <td>0.325490</td>\n",
              "      <td>0.243137</td>\n",
              "      <td>0.000000</td>\n",
              "      <td>0.000000</td>\n",
              "      <td>0.0</td>\n",
              "      <td>0.0</td>\n",
              "      <td>0.0</td>\n",
              "      <td>0.0</td>\n",
              "      <td>0.0</td>\n",
              "      <td>0.0</td>\n",
              "      <td>0.0</td>\n",
              "      <td>0.0</td>\n",
              "      <td>0.0</td>\n",
              "      <td>0.0</td>\n",
              "      <td>0.0</td>\n",
              "      <td>0.003922</td>\n",
              "      <td>0.003922</td>\n",
              "      <td>0.003922</td>\n",
              "      <td>0.0</td>\n",
              "      <td>0.000000</td>\n",
              "      <td>0.050980</td>\n",
              "      <td>0.309804</td>\n",
              "      <td>0.501961</td>\n",
              "      <td>0.788235</td>\n",
              "      <td>...</td>\n",
              "      <td>0.772549</td>\n",
              "      <td>0.713725</td>\n",
              "      <td>0.635294</td>\n",
              "      <td>0.239216</td>\n",
              "      <td>0.000000</td>\n",
              "      <td>0.0</td>\n",
              "      <td>0.000000</td>\n",
              "      <td>0.0</td>\n",
              "      <td>0.0</td>\n",
              "      <td>0.0</td>\n",
              "      <td>0.0</td>\n",
              "      <td>0.0</td>\n",
              "      <td>0.0</td>\n",
              "      <td>0.0</td>\n",
              "      <td>0.000000</td>\n",
              "      <td>0.000000</td>\n",
              "      <td>0.000000</td>\n",
              "      <td>0.000000</td>\n",
              "      <td>0.0</td>\n",
              "      <td>0.000000</td>\n",
              "      <td>0.117647</td>\n",
              "      <td>0.282353</td>\n",
              "      <td>0.372549</td>\n",
              "      <td>0.427451</td>\n",
              "      <td>0.435294</td>\n",
              "      <td>0.435294</td>\n",
              "      <td>0.415686</td>\n",
              "      <td>0.396078</td>\n",
              "      <td>0.278431</td>\n",
              "      <td>0.047059</td>\n",
              "      <td>0.0</td>\n",
              "      <td>0.000000</td>\n",
              "      <td>0.000000</td>\n",
              "      <td>0.000000</td>\n",
              "      <td>0.000000</td>\n",
              "      <td>0.0</td>\n",
              "      <td>0.0</td>\n",
              "      <td>0.0</td>\n",
              "      <td>6</td>\n",
              "      <td>Shirt</td>\n",
              "    </tr>\n",
              "  </tbody>\n",
              "</table>\n",
              "<p>5 rows × 786 columns</p>\n",
              "</div>"
            ],
            "text/plain": [
              "    z0   z1   z2        z3   z4  ...  z781  z782  z783  label       class\n",
              "0  0.0  0.0  0.0  0.000000  0.0  ...   0.0   0.0   0.0      9  Ankle boot\n",
              "1  0.0  0.0  0.0  0.000000  0.0  ...   0.0   0.0   0.0      2    Pullover\n",
              "2  0.0  0.0  0.0  0.000000  0.0  ...   0.0   0.0   0.0      1     Trouser\n",
              "3  0.0  0.0  0.0  0.000000  0.0  ...   0.0   0.0   0.0      1     Trouser\n",
              "4  0.0  0.0  0.0  0.007843  0.0  ...   0.0   0.0   0.0      6       Shirt\n",
              "\n",
              "[5 rows x 786 columns]"
            ]
          },
          "metadata": {
            "tags": []
          },
          "execution_count": 14
        }
      ]
    },
    {
      "cell_type": "markdown",
      "metadata": {
        "id": "vSxMPe7n-BRD",
        "colab_type": "text"
      },
      "source": [
        "Now we have our data reshaped into the $784D$ vectors, we can classify the images using a feed forward artifical neural network.\n",
        "\n"
      ]
    },
    {
      "cell_type": "markdown",
      "metadata": {
        "id": "Vv36QfGvgkTQ",
        "colab_type": "text"
      },
      "source": [
        "## Question 2: Neural Network\n",
        "In this question we will build different neural network models. \n",
        "\n",
        "### Question 2.1) Pullovers vs. Coats. \n",
        "\n",
        "Build a neural network to your liking and train it for 50 epochs with a 0.2 train/validation split. You will want to use binary cross entropy (\"bce\") loss as the loss function. See if you can tune your model to achieve 70% accuracy."
      ]
    },
    {
      "cell_type": "code",
      "metadata": {
        "id": "7EXXqZmah9ms",
        "colab_type": "code",
        "colab": {}
      },
      "source": [
        "from tensorflow.keras.layers import Input, Dense # only use these layers\n",
        "from tensorflow.keras.models import Model\n",
        "from tensorflow.keras.optimizers import * # you can use any optimizer\n",
        "\n",
        "\n",
        "# DEFINE YOUR MODEL HERE\n",
        "### YOUR CODE HERE ###\n",
        "\n",
        "def build_model1():\n",
        "    input_layer = Input(shape=(784,))\n",
        "    x = Dense(20, activation='relu')(input_layer)\n",
        "    x = Dense(10, activation='relu')(x)\n",
        "    x = Dense(1, activation='sigmoid')(x)\n",
        "    return Model(input_layer, x)\n",
        "\n",
        "model = build_model1()"
      ],
      "execution_count": 15,
      "outputs": []
    },
    {
      "cell_type": "code",
      "metadata": {
        "id": "Fyf3VAHEiFXy",
        "colab_type": "code",
        "colab": {
          "base_uri": "https://localhost:8080/",
          "height": 289
        },
        "outputId": "ceadd026-aa0e-4307-de3f-1f92273c756f"
      },
      "source": [
        "# Show a summary of your model\n",
        "model.summary()"
      ],
      "execution_count": 16,
      "outputs": [
        {
          "output_type": "stream",
          "text": [
            "Model: \"model\"\n",
            "_________________________________________________________________\n",
            "Layer (type)                 Output Shape              Param #   \n",
            "=================================================================\n",
            "input_1 (InputLayer)         [(None, 784)]             0         \n",
            "_________________________________________________________________\n",
            "dense (Dense)                (None, 20)                15700     \n",
            "_________________________________________________________________\n",
            "dense_1 (Dense)              (None, 10)                210       \n",
            "_________________________________________________________________\n",
            "dense_2 (Dense)              (None, 1)                 11        \n",
            "=================================================================\n",
            "Total params: 15,921\n",
            "Trainable params: 15,921\n",
            "Non-trainable params: 0\n",
            "_________________________________________________________________\n"
          ],
          "name": "stdout"
        }
      ]
    },
    {
      "cell_type": "code",
      "metadata": {
        "id": "Xd4FEmAzhBWm",
        "colab_type": "code",
        "colab": {}
      },
      "source": [
        "# A function for getting a subset of the data\n",
        "def get_data_subset(df, classes=[], shuffle=True, shuffle_seed=42):\n",
        "    \"\"\"\n",
        "    Used to retrieve columns from df\n",
        "    \"\"\"\n",
        "    if classes == []:\n",
        "        print(\"Pleas\")\n",
        "    else:\n",
        "        df_filtered = df[(df[\"class\"] == classes[0]) | (df[\"class\"] == classes[1])].copy()\n",
        "        df_filtered[\"binary_label\"] = 0\n",
        "        df_filtered.loc[df[\"class\"] == classes[1], \"binary_label\"] = 1\n",
        "        data = df_filtered.filter(regex=(\"z[0-9]+\")).values\n",
        "        labels = df_filtered[\"binary_label\"].values\n",
        "        if shuffle:\n",
        "            np.random.seed(shuffle_seed)\n",
        "            np.random.shuffle(data)\n",
        "            np.random.seed(shuffle_seed)\n",
        "            np.random.shuffle(labels)\n",
        "\n",
        "    return data, labels.reshape(-1,1)\n"
      ],
      "execution_count": 17,
      "outputs": []
    },
    {
      "cell_type": "code",
      "metadata": {
        "id": "NqPfiJkZiHjr",
        "colab_type": "code",
        "colab": {}
      },
      "source": [
        "# Preparing data for training, use get_data_subset along with df_img_train\n",
        "X, y = get_data_subset(df_img_train, classes = [\"Coat\", \"Pullover\"])"
      ],
      "execution_count": 18,
      "outputs": []
    },
    {
      "cell_type": "code",
      "metadata": {
        "id": "vd5TyTGUiJU7",
        "colab_type": "code",
        "colab": {}
      },
      "source": [
        "# Compile your model with your chosen optimizer, binary cross entropy for the loss, and accuracy as the metric\n",
        "\n",
        "### YOUR CODE HERE ###\n",
        "optimizer = Adam(lr = 0.001)\n",
        "model.compile(optimizer=optimizer,loss='bce',metrics=['accuracy'])"
      ],
      "execution_count": 19,
      "outputs": []
    },
    {
      "cell_type": "code",
      "metadata": {
        "id": "9jD9zSj_ifjq",
        "colab_type": "code",
        "colab": {
          "base_uri": "https://localhost:8080/",
          "height": 1000
        },
        "outputId": "10ce0f06-89fd-42e8-fd33-fbb146fd3bb8"
      },
      "source": [
        "# Call fit on your model passing in the train_images, train_labels data above, train for 50 epochs 0.2 train/validation split\n",
        "### YOUR CODE HERE ###\n",
        "\n",
        "hist = model.fit(X, y, validation_split = 0.2, epochs=50)"
      ],
      "execution_count": 20,
      "outputs": [
        {
          "output_type": "stream",
          "text": [
            "Epoch 1/50\n",
            "300/300 [==============================] - 1s 3ms/step - loss: 0.4229 - accuracy: 0.8129 - val_loss: 0.3608 - val_accuracy: 0.8575\n",
            "Epoch 2/50\n",
            "300/300 [==============================] - 1s 2ms/step - loss: 0.3484 - accuracy: 0.8559 - val_loss: 0.3560 - val_accuracy: 0.8529\n",
            "Epoch 3/50\n",
            "300/300 [==============================] - 1s 2ms/step - loss: 0.3291 - accuracy: 0.8651 - val_loss: 0.3419 - val_accuracy: 0.8596\n",
            "Epoch 4/50\n",
            "300/300 [==============================] - 1s 2ms/step - loss: 0.3125 - accuracy: 0.8721 - val_loss: 0.3081 - val_accuracy: 0.8750\n",
            "Epoch 5/50\n",
            "300/300 [==============================] - 1s 2ms/step - loss: 0.2982 - accuracy: 0.8835 - val_loss: 0.3132 - val_accuracy: 0.8737\n",
            "Epoch 6/50\n",
            "300/300 [==============================] - 1s 2ms/step - loss: 0.2920 - accuracy: 0.8832 - val_loss: 0.3297 - val_accuracy: 0.8704\n",
            "Epoch 7/50\n",
            "300/300 [==============================] - 1s 2ms/step - loss: 0.2839 - accuracy: 0.8870 - val_loss: 0.3663 - val_accuracy: 0.8438\n",
            "Epoch 8/50\n",
            "300/300 [==============================] - 1s 3ms/step - loss: 0.2794 - accuracy: 0.8858 - val_loss: 0.3135 - val_accuracy: 0.8687\n",
            "Epoch 9/50\n",
            "300/300 [==============================] - 1s 2ms/step - loss: 0.2746 - accuracy: 0.8902 - val_loss: 0.2938 - val_accuracy: 0.8746\n",
            "Epoch 10/50\n",
            "300/300 [==============================] - 1s 2ms/step - loss: 0.2670 - accuracy: 0.8957 - val_loss: 0.3273 - val_accuracy: 0.8604\n",
            "Epoch 11/50\n",
            "300/300 [==============================] - 1s 3ms/step - loss: 0.2676 - accuracy: 0.8935 - val_loss: 0.2876 - val_accuracy: 0.8800\n",
            "Epoch 12/50\n",
            "300/300 [==============================] - 1s 2ms/step - loss: 0.2667 - accuracy: 0.8963 - val_loss: 0.2912 - val_accuracy: 0.8821\n",
            "Epoch 13/50\n",
            "300/300 [==============================] - 1s 3ms/step - loss: 0.2598 - accuracy: 0.8974 - val_loss: 0.2854 - val_accuracy: 0.8883\n",
            "Epoch 14/50\n",
            "300/300 [==============================] - 1s 2ms/step - loss: 0.2594 - accuracy: 0.8968 - val_loss: 0.2791 - val_accuracy: 0.8850\n",
            "Epoch 15/50\n",
            "300/300 [==============================] - 1s 2ms/step - loss: 0.2556 - accuracy: 0.8968 - val_loss: 0.3024 - val_accuracy: 0.8808\n",
            "Epoch 16/50\n",
            "300/300 [==============================] - 1s 3ms/step - loss: 0.2562 - accuracy: 0.8993 - val_loss: 0.2810 - val_accuracy: 0.8850\n",
            "Epoch 17/50\n",
            "300/300 [==============================] - 1s 2ms/step - loss: 0.2514 - accuracy: 0.9005 - val_loss: 0.2772 - val_accuracy: 0.8892\n",
            "Epoch 18/50\n",
            "300/300 [==============================] - 1s 3ms/step - loss: 0.2506 - accuracy: 0.9014 - val_loss: 0.2759 - val_accuracy: 0.8879\n",
            "Epoch 19/50\n",
            "300/300 [==============================] - 1s 3ms/step - loss: 0.2462 - accuracy: 0.9035 - val_loss: 0.2799 - val_accuracy: 0.8842\n",
            "Epoch 20/50\n",
            "300/300 [==============================] - 1s 3ms/step - loss: 0.2440 - accuracy: 0.9053 - val_loss: 0.2781 - val_accuracy: 0.8925\n",
            "Epoch 21/50\n",
            "300/300 [==============================] - 1s 3ms/step - loss: 0.2411 - accuracy: 0.9050 - val_loss: 0.3160 - val_accuracy: 0.8662\n",
            "Epoch 22/50\n",
            "300/300 [==============================] - 1s 3ms/step - loss: 0.2456 - accuracy: 0.9016 - val_loss: 0.2795 - val_accuracy: 0.8883\n",
            "Epoch 23/50\n",
            "300/300 [==============================] - 1s 3ms/step - loss: 0.2350 - accuracy: 0.9077 - val_loss: 0.2861 - val_accuracy: 0.8888\n",
            "Epoch 24/50\n",
            "300/300 [==============================] - 1s 2ms/step - loss: 0.2363 - accuracy: 0.9060 - val_loss: 0.2818 - val_accuracy: 0.8904\n",
            "Epoch 25/50\n",
            "300/300 [==============================] - 1s 2ms/step - loss: 0.2397 - accuracy: 0.9035 - val_loss: 0.2794 - val_accuracy: 0.8846\n",
            "Epoch 26/50\n",
            "300/300 [==============================] - 1s 2ms/step - loss: 0.2424 - accuracy: 0.9021 - val_loss: 0.3059 - val_accuracy: 0.8754\n",
            "Epoch 27/50\n",
            "300/300 [==============================] - 1s 3ms/step - loss: 0.2330 - accuracy: 0.9100 - val_loss: 0.2786 - val_accuracy: 0.8938\n",
            "Epoch 28/50\n",
            "300/300 [==============================] - 1s 2ms/step - loss: 0.2284 - accuracy: 0.9116 - val_loss: 0.2917 - val_accuracy: 0.8800\n",
            "Epoch 29/50\n",
            "300/300 [==============================] - 1s 2ms/step - loss: 0.2290 - accuracy: 0.9101 - val_loss: 0.2876 - val_accuracy: 0.8883\n",
            "Epoch 30/50\n",
            "300/300 [==============================] - 1s 2ms/step - loss: 0.2330 - accuracy: 0.9072 - val_loss: 0.3012 - val_accuracy: 0.8733\n",
            "Epoch 31/50\n",
            "300/300 [==============================] - 1s 3ms/step - loss: 0.2251 - accuracy: 0.9091 - val_loss: 0.2811 - val_accuracy: 0.8929\n",
            "Epoch 32/50\n",
            "300/300 [==============================] - 1s 2ms/step - loss: 0.2259 - accuracy: 0.9097 - val_loss: 0.3237 - val_accuracy: 0.8650\n",
            "Epoch 33/50\n",
            "300/300 [==============================] - 1s 2ms/step - loss: 0.2203 - accuracy: 0.9147 - val_loss: 0.2763 - val_accuracy: 0.8925\n",
            "Epoch 34/50\n",
            "300/300 [==============================] - 1s 2ms/step - loss: 0.2194 - accuracy: 0.9154 - val_loss: 0.3258 - val_accuracy: 0.8696\n",
            "Epoch 35/50\n",
            "300/300 [==============================] - 1s 3ms/step - loss: 0.2180 - accuracy: 0.9170 - val_loss: 0.2858 - val_accuracy: 0.8842\n",
            "Epoch 36/50\n",
            "300/300 [==============================] - 1s 2ms/step - loss: 0.2147 - accuracy: 0.9141 - val_loss: 0.2907 - val_accuracy: 0.8929\n",
            "Epoch 37/50\n",
            "300/300 [==============================] - 1s 2ms/step - loss: 0.2116 - accuracy: 0.9166 - val_loss: 0.2929 - val_accuracy: 0.8858\n",
            "Epoch 38/50\n",
            "300/300 [==============================] - 1s 2ms/step - loss: 0.2102 - accuracy: 0.9183 - val_loss: 0.2940 - val_accuracy: 0.8833\n",
            "Epoch 39/50\n",
            "300/300 [==============================] - 1s 2ms/step - loss: 0.2088 - accuracy: 0.9194 - val_loss: 0.3124 - val_accuracy: 0.8850\n",
            "Epoch 40/50\n",
            "300/300 [==============================] - 1s 2ms/step - loss: 0.2071 - accuracy: 0.9185 - val_loss: 0.2802 - val_accuracy: 0.8958\n",
            "Epoch 41/50\n",
            "300/300 [==============================] - 1s 2ms/step - loss: 0.2067 - accuracy: 0.9207 - val_loss: 0.2988 - val_accuracy: 0.8800\n",
            "Epoch 42/50\n",
            "300/300 [==============================] - 1s 2ms/step - loss: 0.2062 - accuracy: 0.9182 - val_loss: 0.2943 - val_accuracy: 0.8846\n",
            "Epoch 43/50\n",
            "300/300 [==============================] - 1s 2ms/step - loss: 0.2001 - accuracy: 0.9210 - val_loss: 0.2808 - val_accuracy: 0.8946\n",
            "Epoch 44/50\n",
            "300/300 [==============================] - 1s 2ms/step - loss: 0.2059 - accuracy: 0.9202 - val_loss: 0.2802 - val_accuracy: 0.8938\n",
            "Epoch 45/50\n",
            "300/300 [==============================] - 1s 2ms/step - loss: 0.1968 - accuracy: 0.9202 - val_loss: 0.2877 - val_accuracy: 0.8954\n",
            "Epoch 46/50\n",
            "300/300 [==============================] - 1s 2ms/step - loss: 0.1982 - accuracy: 0.9240 - val_loss: 0.3034 - val_accuracy: 0.8858\n",
            "Epoch 47/50\n",
            "300/300 [==============================] - 1s 2ms/step - loss: 0.1939 - accuracy: 0.9230 - val_loss: 0.2772 - val_accuracy: 0.8954\n",
            "Epoch 48/50\n",
            "300/300 [==============================] - 1s 2ms/step - loss: 0.1965 - accuracy: 0.9235 - val_loss: 0.2945 - val_accuracy: 0.8842\n",
            "Epoch 49/50\n",
            "300/300 [==============================] - 1s 3ms/step - loss: 0.1953 - accuracy: 0.9231 - val_loss: 0.3179 - val_accuracy: 0.8796\n",
            "Epoch 50/50\n",
            "300/300 [==============================] - 1s 2ms/step - loss: 0.1939 - accuracy: 0.9239 - val_loss: 0.2779 - val_accuracy: 0.9021\n"
          ],
          "name": "stdout"
        }
      ]
    },
    {
      "cell_type": "code",
      "metadata": {
        "colab_type": "code",
        "id": "DKqfHYZOjjYM",
        "colab": {}
      },
      "source": [
        "def plot_losses(hist):\n",
        "    plt.plot(hist.history['loss'])\n",
        "    plt.plot(hist.history['val_loss'])\n",
        "    plt.title('Model Loss')\n",
        "    plt.ylabel('Loss')\n",
        "    plt.xlabel('Epoch')\n",
        "    plt.legend(['Train', 'Val'])\n",
        "    plt.show()\n",
        "def plot_accuracies(hist):\n",
        "    plt.plot(hist.history['accuracy'])\n",
        "    plt.plot(hist.history['val_accuracy'])\n",
        "    plt.title('Model Accuracy')\n",
        "    plt.ylabel('Accuracy')\n",
        "    plt.xlabel('Epoch')\n",
        "    plt.legend(['Train', 'Val'])\n",
        "    plt.show()"
      ],
      "execution_count": 21,
      "outputs": []
    },
    {
      "cell_type": "code",
      "metadata": {
        "colab_type": "code",
        "id": "txkzNQ07jjYR",
        "colab": {
          "base_uri": "https://localhost:8080/",
          "height": 573
        },
        "outputId": "01f037a7-477e-410b-baff-25f89a52d88f"
      },
      "source": [
        "# Plot your losses and accuracies\n",
        "plot_losses(hist)\n",
        "plot_accuracies(hist)"
      ],
      "execution_count": 22,
      "outputs": [
        {
          "output_type": "display_data",
          "data": {
            "image/png": "[encoded data removed]",
            "text/plain": [
              "<Figure size 432x288 with 1 Axes>"
            ]
          },
          "metadata": {
            "tags": [],
            "needs_background": "light"
          }
        },
        {
          "output_type": "display_data",
          "data": {
            "image/png": "[encoded data removed]",
            "text/plain": [
              "<Figure size 432x288 with 1 Axes>"
            ]
          },
          "metadata": {
            "tags": [],
            "needs_background": "light"
          }
        }
      ]
    },
    {
      "cell_type": "markdown",
      "metadata": {
        "colab_type": "text",
        "id": "WktCDSpCjcsO"
      },
      "source": [
        "### Question 2.2) Observation\n",
        "How did your neural network perform? What hyperparameters and optimizer did you choose?"
      ]
    },
    {
      "cell_type": "markdown",
      "metadata": {
        "colab_type": "text",
        "id": "HNnkjhAijcsS"
      },
      "source": [
        "The neural network performed very well with an accuracy in the low 90's%. The optimizer used was Adam. The learning rate was set at 0.001. Loss was set to bce per the instructions and metrics set to accuracy. The activation functions used were relu and sigmoid. The epochs were set to 50 and the data was split at 0.2.  "
      ]
    },
    {
      "cell_type": "markdown",
      "metadata": {
        "id": "tCUyOXpIKOys",
        "colab_type": "text"
      },
      "source": [
        "### Question 2.3) Multi-class Neural Network"
      ]
    },
    {
      "cell_type": "markdown",
      "metadata": {
        "id": "exBaTpbhWF2d",
        "colab_type": "text"
      },
      "source": [
        "Next, we will build a neural network toimplement a multi-class classification. Remember that your input size is (784,) and the output layer needs 10 nodes (also remember that there is a certain activation function that needs to be encorporated with the output layer). See if your model can get about 70% classification accuracy.\n",
        "\n",
        "**Hint: When compiling your model use loss=tf.keras.losses.[SparseCategoricalCrossentropy](https://www.tensorflow.org/api_docs/python/tf/keras/losses/SparseCategoricalCrossentropy) "
      ]
    },
    {
      "cell_type": "code",
      "metadata": {
        "id": "fz_g2Qm6DTgJ",
        "colab_type": "code",
        "colab": {}
      },
      "source": [
        "from tensorflow.keras.layers import Input, Dense # only use these layers\n",
        "from tensorflow.keras.models import Model\n",
        "from tensorflow.keras.optimizers import * # you can use any optimizer\n",
        "\n",
        "# DEFINE YOUR MODEL HERE\n",
        "### YOUR CODE HERE ###\n",
        "\n",
        "def build_model2():\n",
        "    input_layer = Input(shape=(784,))\n",
        "    x = Dense(20, activation='relu')(input_layer)\n",
        "    x = Dense(10, activation='softmax')(x)\n",
        "    return Model(input_layer, x)\n",
        "\n",
        "model = build_model2()"
      ],
      "execution_count": 23,
      "outputs": []
    },
    {
      "cell_type": "code",
      "metadata": {
        "id": "6HU26g16DxVG",
        "colab_type": "code",
        "colab": {
          "base_uri": "https://localhost:8080/",
          "height": 255
        },
        "outputId": "6eb2a86d-e2de-4a0b-c953-00fd7622a6c3"
      },
      "source": [
        "# Show a summary of your model\n",
        "model.summary()"
      ],
      "execution_count": 24,
      "outputs": [
        {
          "output_type": "stream",
          "text": [
            "Model: \"model_1\"\n",
            "_________________________________________________________________\n",
            "Layer (type)                 Output Shape              Param #   \n",
            "=================================================================\n",
            "input_2 (InputLayer)         [(None, 784)]             0         \n",
            "_________________________________________________________________\n",
            "dense_3 (Dense)              (None, 20)                15700     \n",
            "_________________________________________________________________\n",
            "dense_4 (Dense)              (None, 10)                210       \n",
            "=================================================================\n",
            "Total params: 15,910\n",
            "Trainable params: 15,910\n",
            "Non-trainable params: 0\n",
            "_________________________________________________________________\n"
          ],
          "name": "stdout"
        }
      ]
    },
    {
      "cell_type": "code",
      "metadata": {
        "id": "JDygMwK8JklW",
        "colab_type": "code",
        "colab": {}
      },
      "source": [
        "# Compile your model with your chosen optimizer, binary cross entropy for the loss, and accuracy as the metric\n",
        "\n",
        "### YOUR CODE HERE ###\n",
        "optimizer = RMSprop(lr = 0.001)\n",
        "model.compile(optimizer=optimizer,loss='sparse_categorical_crossentropy',metrics=['accuracy'])"
      ],
      "execution_count": 25,
      "outputs": []
    },
    {
      "cell_type": "code",
      "metadata": {
        "id": "kG9WFebDHV-k",
        "colab_type": "code",
        "colab": {
          "base_uri": "https://localhost:8080/",
          "height": 1000
        },
        "outputId": "ee1a153b-446d-4f0a-b9c7-35cce74f0624"
      },
      "source": [
        "# Call fit on your model passing in the train_images, train_labels data above with validation split of 0.2 and train for 100 epochs\n",
        "### YOUR CODE HERE ###\n",
        "hist = model.fit(train_images, train_labels, epochs=100, validation_split = 0.2)"
      ],
      "execution_count": 26,
      "outputs": [
        {
          "output_type": "stream",
          "text": [
            "Epoch 1/100\n",
            "1500/1500 [==============================] - 4s 2ms/step - loss: 0.6041 - accuracy: 0.7939 - val_loss: 0.4856 - val_accuracy: 0.8318\n",
            "Epoch 2/100\n",
            "1500/1500 [==============================] - 4s 2ms/step - loss: 0.4400 - accuracy: 0.8463 - val_loss: 0.4338 - val_accuracy: 0.8468\n",
            "Epoch 3/100\n",
            "1500/1500 [==============================] - 4s 2ms/step - loss: 0.4080 - accuracy: 0.8555 - val_loss: 0.4023 - val_accuracy: 0.8588\n",
            "Epoch 4/100\n",
            "1500/1500 [==============================] - 4s 2ms/step - loss: 0.3881 - accuracy: 0.8622 - val_loss: 0.4086 - val_accuracy: 0.8554\n",
            "Epoch 5/100\n",
            "1500/1500 [==============================] - 4s 2ms/step - loss: 0.3729 - accuracy: 0.8677 - val_loss: 0.4003 - val_accuracy: 0.8588\n",
            "Epoch 6/100\n",
            "1500/1500 [==============================] - 4s 2ms/step - loss: 0.3625 - accuracy: 0.8718 - val_loss: 0.4064 - val_accuracy: 0.8603\n",
            "Epoch 7/100\n",
            "1500/1500 [==============================] - 4s 2ms/step - loss: 0.3550 - accuracy: 0.8723 - val_loss: 0.4038 - val_accuracy: 0.8607\n",
            "Epoch 8/100\n",
            "1500/1500 [==============================] - 4s 2ms/step - loss: 0.3477 - accuracy: 0.8765 - val_loss: 0.3845 - val_accuracy: 0.8682\n",
            "Epoch 9/100\n",
            "1500/1500 [==============================] - 4s 2ms/step - loss: 0.3411 - accuracy: 0.8786 - val_loss: 0.4007 - val_accuracy: 0.8673\n",
            "Epoch 10/100\n",
            "1500/1500 [==============================] - 4s 2ms/step - loss: 0.3356 - accuracy: 0.8807 - val_loss: 0.3880 - val_accuracy: 0.8658\n",
            "Epoch 11/100\n",
            "1500/1500 [==============================] - 4s 2ms/step - loss: 0.3334 - accuracy: 0.8802 - val_loss: 0.3962 - val_accuracy: 0.8647\n",
            "Epoch 12/100\n",
            "1500/1500 [==============================] - 4s 2ms/step - loss: 0.3287 - accuracy: 0.8825 - val_loss: 0.3738 - val_accuracy: 0.8739\n",
            "Epoch 13/100\n",
            "1500/1500 [==============================] - 4s 2ms/step - loss: 0.3251 - accuracy: 0.8863 - val_loss: 0.3890 - val_accuracy: 0.8711\n",
            "Epoch 14/100\n",
            "1500/1500 [==============================] - 4s 2ms/step - loss: 0.3216 - accuracy: 0.8857 - val_loss: 0.3903 - val_accuracy: 0.8712\n",
            "Epoch 15/100\n",
            "1500/1500 [==============================] - 4s 2ms/step - loss: 0.3194 - accuracy: 0.8869 - val_loss: 0.3817 - val_accuracy: 0.8748\n",
            "Epoch 16/100\n",
            "1500/1500 [==============================] - 4s 2ms/step - loss: 0.3163 - accuracy: 0.8866 - val_loss: 0.3884 - val_accuracy: 0.8719\n",
            "Epoch 17/100\n",
            "1500/1500 [==============================] - 4s 2ms/step - loss: 0.3163 - accuracy: 0.8879 - val_loss: 0.3911 - val_accuracy: 0.8701\n",
            "Epoch 18/100\n",
            "1500/1500 [==============================] - 4s 2ms/step - loss: 0.3131 - accuracy: 0.8898 - val_loss: 0.3985 - val_accuracy: 0.8685\n",
            "Epoch 19/100\n",
            "1500/1500 [==============================] - 4s 2ms/step - loss: 0.3105 - accuracy: 0.8906 - val_loss: 0.4053 - val_accuracy: 0.8687\n",
            "Epoch 20/100\n",
            "1500/1500 [==============================] - 4s 2ms/step - loss: 0.3084 - accuracy: 0.8905 - val_loss: 0.4266 - val_accuracy: 0.8607\n",
            "Epoch 21/100\n",
            "1500/1500 [==============================] - 4s 2ms/step - loss: 0.3058 - accuracy: 0.8918 - val_loss: 0.4039 - val_accuracy: 0.8725\n",
            "Epoch 22/100\n",
            "1500/1500 [==============================] - 4s 2ms/step - loss: 0.3046 - accuracy: 0.8923 - val_loss: 0.4120 - val_accuracy: 0.8643\n",
            "Epoch 23/100\n",
            "1500/1500 [==============================] - 4s 2ms/step - loss: 0.3032 - accuracy: 0.8938 - val_loss: 0.4135 - val_accuracy: 0.8733\n",
            "Epoch 24/100\n",
            "1500/1500 [==============================] - 4s 2ms/step - loss: 0.3007 - accuracy: 0.8959 - val_loss: 0.4122 - val_accuracy: 0.8703\n",
            "Epoch 25/100\n",
            "1500/1500 [==============================] - 4s 2ms/step - loss: 0.2989 - accuracy: 0.8963 - val_loss: 0.4118 - val_accuracy: 0.8715\n",
            "Epoch 26/100\n",
            "1500/1500 [==============================] - 4s 3ms/step - loss: 0.2992 - accuracy: 0.8961 - val_loss: 0.4014 - val_accuracy: 0.8732\n",
            "Epoch 27/100\n",
            "1500/1500 [==============================] - 4s 2ms/step - loss: 0.2948 - accuracy: 0.8959 - val_loss: 0.4226 - val_accuracy: 0.8698\n",
            "Epoch 28/100\n",
            "1500/1500 [==============================] - 4s 2ms/step - loss: 0.2951 - accuracy: 0.8961 - val_loss: 0.4265 - val_accuracy: 0.8702\n",
            "Epoch 29/100\n",
            "1500/1500 [==============================] - 4s 2ms/step - loss: 0.2924 - accuracy: 0.8959 - val_loss: 0.4292 - val_accuracy: 0.8671\n",
            "Epoch 30/100\n",
            "1500/1500 [==============================] - 4s 2ms/step - loss: 0.2909 - accuracy: 0.8978 - val_loss: 0.4243 - val_accuracy: 0.8727\n",
            "Epoch 31/100\n",
            "1500/1500 [==============================] - 4s 2ms/step - loss: 0.2916 - accuracy: 0.8971 - val_loss: 0.4080 - val_accuracy: 0.8739\n",
            "Epoch 32/100\n",
            "1500/1500 [==============================] - 4s 2ms/step - loss: 0.2882 - accuracy: 0.8984 - val_loss: 0.4433 - val_accuracy: 0.8644\n",
            "Epoch 33/100\n",
            "1500/1500 [==============================] - 4s 2ms/step - loss: 0.2888 - accuracy: 0.8990 - val_loss: 0.4422 - val_accuracy: 0.8642\n",
            "Epoch 34/100\n",
            "1500/1500 [==============================] - 4s 2ms/step - loss: 0.2855 - accuracy: 0.8998 - val_loss: 0.4275 - val_accuracy: 0.8707\n",
            "Epoch 35/100\n",
            "1500/1500 [==============================] - 4s 2ms/step - loss: 0.2863 - accuracy: 0.8998 - val_loss: 0.4520 - val_accuracy: 0.8652\n",
            "Epoch 36/100\n",
            "1500/1500 [==============================] - 4s 3ms/step - loss: 0.2843 - accuracy: 0.9003 - val_loss: 0.4341 - val_accuracy: 0.8709\n",
            "Epoch 37/100\n",
            "1500/1500 [==============================] - 4s 3ms/step - loss: 0.2850 - accuracy: 0.9018 - val_loss: 0.4743 - val_accuracy: 0.8588\n",
            "Epoch 38/100\n",
            "1500/1500 [==============================] - 4s 3ms/step - loss: 0.2829 - accuracy: 0.9018 - val_loss: 0.4567 - val_accuracy: 0.8668\n",
            "Epoch 39/100\n",
            "1500/1500 [==============================] - 4s 2ms/step - loss: 0.2811 - accuracy: 0.9016 - val_loss: 0.4444 - val_accuracy: 0.8692\n",
            "Epoch 40/100\n",
            "1500/1500 [==============================] - 4s 2ms/step - loss: 0.2807 - accuracy: 0.9025 - val_loss: 0.4541 - val_accuracy: 0.8689\n",
            "Epoch 41/100\n",
            "1500/1500 [==============================] - 4s 2ms/step - loss: 0.2812 - accuracy: 0.9022 - val_loss: 0.4550 - val_accuracy: 0.8648\n",
            "Epoch 42/100\n",
            "1500/1500 [==============================] - 4s 2ms/step - loss: 0.2801 - accuracy: 0.9025 - val_loss: 0.4525 - val_accuracy: 0.8684\n",
            "Epoch 43/100\n",
            "1500/1500 [==============================] - 4s 2ms/step - loss: 0.2758 - accuracy: 0.9043 - val_loss: 0.4643 - val_accuracy: 0.8680\n",
            "Epoch 44/100\n",
            "1500/1500 [==============================] - 4s 2ms/step - loss: 0.2762 - accuracy: 0.9037 - val_loss: 0.4652 - val_accuracy: 0.8698\n",
            "Epoch 45/100\n",
            "1500/1500 [==============================] - 4s 2ms/step - loss: 0.2773 - accuracy: 0.9030 - val_loss: 0.4561 - val_accuracy: 0.8688\n",
            "Epoch 46/100\n",
            "1500/1500 [==============================] - 4s 2ms/step - loss: 0.2770 - accuracy: 0.9028 - val_loss: 0.4811 - val_accuracy: 0.8693\n",
            "Epoch 47/100\n",
            "1500/1500 [==============================] - 4s 2ms/step - loss: 0.2767 - accuracy: 0.9045 - val_loss: 0.4954 - val_accuracy: 0.8615\n",
            "Epoch 48/100\n",
            "1500/1500 [==============================] - 4s 2ms/step - loss: 0.2758 - accuracy: 0.9026 - val_loss: 0.4835 - val_accuracy: 0.8662\n",
            "Epoch 49/100\n",
            "1500/1500 [==============================] - 4s 2ms/step - loss: 0.2752 - accuracy: 0.9049 - val_loss: 0.4667 - val_accuracy: 0.8699\n",
            "Epoch 50/100\n",
            "1500/1500 [==============================] - 4s 2ms/step - loss: 0.2729 - accuracy: 0.9045 - val_loss: 0.4842 - val_accuracy: 0.8691\n",
            "Epoch 51/100\n",
            "1500/1500 [==============================] - 4s 2ms/step - loss: 0.2716 - accuracy: 0.9043 - val_loss: 0.4851 - val_accuracy: 0.8711\n",
            "Epoch 52/100\n",
            "1500/1500 [==============================] - 4s 2ms/step - loss: 0.2709 - accuracy: 0.9062 - val_loss: 0.5166 - val_accuracy: 0.8612\n",
            "Epoch 53/100\n",
            "1500/1500 [==============================] - 4s 2ms/step - loss: 0.2714 - accuracy: 0.9060 - val_loss: 0.5086 - val_accuracy: 0.8626\n",
            "Epoch 54/100\n",
            "1500/1500 [==============================] - 4s 2ms/step - loss: 0.2704 - accuracy: 0.9054 - val_loss: 0.5198 - val_accuracy: 0.8674\n",
            "Epoch 55/100\n",
            "1500/1500 [==============================] - 4s 2ms/step - loss: 0.2685 - accuracy: 0.9059 - val_loss: 0.5068 - val_accuracy: 0.8627\n",
            "Epoch 56/100\n",
            "1500/1500 [==============================] - 4s 2ms/step - loss: 0.2679 - accuracy: 0.9074 - val_loss: 0.4901 - val_accuracy: 0.8685\n",
            "Epoch 57/100\n",
            "1500/1500 [==============================] - 4s 2ms/step - loss: 0.2684 - accuracy: 0.9075 - val_loss: 0.5060 - val_accuracy: 0.8657\n",
            "Epoch 58/100\n",
            "1500/1500 [==============================] - 4s 2ms/step - loss: 0.2673 - accuracy: 0.9070 - val_loss: 0.5556 - val_accuracy: 0.8611\n",
            "Epoch 59/100\n",
            "1500/1500 [==============================] - 4s 2ms/step - loss: 0.2667 - accuracy: 0.9075 - val_loss: 0.5032 - val_accuracy: 0.8696\n",
            "Epoch 60/100\n",
            "1500/1500 [==============================] - 4s 2ms/step - loss: 0.2671 - accuracy: 0.9075 - val_loss: 0.5148 - val_accuracy: 0.8612\n",
            "Epoch 61/100\n",
            "1500/1500 [==============================] - 4s 2ms/step - loss: 0.2664 - accuracy: 0.9082 - val_loss: 0.5119 - val_accuracy: 0.8681\n",
            "Epoch 62/100\n",
            "1500/1500 [==============================] - 4s 2ms/step - loss: 0.2644 - accuracy: 0.9089 - val_loss: 0.5243 - val_accuracy: 0.8675\n",
            "Epoch 63/100\n",
            "1500/1500 [==============================] - 4s 2ms/step - loss: 0.2664 - accuracy: 0.9084 - val_loss: 0.5216 - val_accuracy: 0.8661\n",
            "Epoch 64/100\n",
            "1500/1500 [==============================] - 4s 2ms/step - loss: 0.2637 - accuracy: 0.9086 - val_loss: 0.5196 - val_accuracy: 0.8603\n",
            "Epoch 65/100\n",
            "1500/1500 [==============================] - 4s 2ms/step - loss: 0.2623 - accuracy: 0.9094 - val_loss: 0.5359 - val_accuracy: 0.8669\n",
            "Epoch 66/100\n",
            "1500/1500 [==============================] - 4s 2ms/step - loss: 0.2626 - accuracy: 0.9097 - val_loss: 0.5173 - val_accuracy: 0.8671\n",
            "Epoch 67/100\n",
            "1500/1500 [==============================] - 4s 2ms/step - loss: 0.2609 - accuracy: 0.9096 - val_loss: 0.5599 - val_accuracy: 0.8612\n",
            "Epoch 68/100\n",
            "1500/1500 [==============================] - 4s 2ms/step - loss: 0.2612 - accuracy: 0.9100 - val_loss: 0.5532 - val_accuracy: 0.8611\n",
            "Epoch 69/100\n",
            "1500/1500 [==============================] - 4s 2ms/step - loss: 0.2608 - accuracy: 0.9095 - val_loss: 0.5503 - val_accuracy: 0.8647\n",
            "Epoch 70/100\n",
            "1500/1500 [==============================] - 4s 2ms/step - loss: 0.2610 - accuracy: 0.9100 - val_loss: 0.5333 - val_accuracy: 0.8658\n",
            "Epoch 71/100\n",
            "1500/1500 [==============================] - 4s 2ms/step - loss: 0.2600 - accuracy: 0.9108 - val_loss: 0.5436 - val_accuracy: 0.8628\n",
            "Epoch 72/100\n",
            "1500/1500 [==============================] - 4s 2ms/step - loss: 0.2602 - accuracy: 0.9115 - val_loss: 0.5603 - val_accuracy: 0.8635\n",
            "Epoch 73/100\n",
            "1500/1500 [==============================] - 4s 2ms/step - loss: 0.2584 - accuracy: 0.9109 - val_loss: 0.5552 - val_accuracy: 0.8627\n",
            "Epoch 74/100\n",
            "1500/1500 [==============================] - 4s 2ms/step - loss: 0.2586 - accuracy: 0.9096 - val_loss: 0.5592 - val_accuracy: 0.8668\n",
            "Epoch 75/100\n",
            "1500/1500 [==============================] - 4s 2ms/step - loss: 0.2568 - accuracy: 0.9112 - val_loss: 0.5407 - val_accuracy: 0.8648\n",
            "Epoch 76/100\n",
            "1500/1500 [==============================] - 4s 2ms/step - loss: 0.2567 - accuracy: 0.9105 - val_loss: 0.5683 - val_accuracy: 0.8655\n",
            "Epoch 77/100\n",
            "1500/1500 [==============================] - 4s 2ms/step - loss: 0.2555 - accuracy: 0.9112 - val_loss: 0.5703 - val_accuracy: 0.8643\n",
            "Epoch 78/100\n",
            "1500/1500 [==============================] - 4s 2ms/step - loss: 0.2576 - accuracy: 0.9109 - val_loss: 0.5664 - val_accuracy: 0.8651\n",
            "Epoch 79/100\n",
            "1500/1500 [==============================] - 4s 2ms/step - loss: 0.2543 - accuracy: 0.9122 - val_loss: 0.6015 - val_accuracy: 0.8589\n",
            "Epoch 80/100\n",
            "1500/1500 [==============================] - 4s 2ms/step - loss: 0.2572 - accuracy: 0.9121 - val_loss: 0.5704 - val_accuracy: 0.8616\n",
            "Epoch 81/100\n",
            "1500/1500 [==============================] - 4s 2ms/step - loss: 0.2550 - accuracy: 0.9120 - val_loss: 0.5594 - val_accuracy: 0.8666\n",
            "Epoch 82/100\n",
            "1500/1500 [==============================] - 4s 2ms/step - loss: 0.2552 - accuracy: 0.9130 - val_loss: 0.5859 - val_accuracy: 0.8657\n",
            "Epoch 83/100\n",
            "1500/1500 [==============================] - 4s 2ms/step - loss: 0.2527 - accuracy: 0.9134 - val_loss: 0.5957 - val_accuracy: 0.8640\n",
            "Epoch 84/100\n",
            "1500/1500 [==============================] - 4s 2ms/step - loss: 0.2541 - accuracy: 0.9116 - val_loss: 0.6107 - val_accuracy: 0.8570\n",
            "Epoch 85/100\n",
            "1500/1500 [==============================] - 4s 2ms/step - loss: 0.2529 - accuracy: 0.9131 - val_loss: 0.6149 - val_accuracy: 0.8581\n",
            "Epoch 86/100\n",
            "1500/1500 [==============================] - 4s 2ms/step - loss: 0.2514 - accuracy: 0.9138 - val_loss: 0.5846 - val_accuracy: 0.8654\n",
            "Epoch 87/100\n",
            "1500/1500 [==============================] - 4s 2ms/step - loss: 0.2502 - accuracy: 0.9144 - val_loss: 0.6007 - val_accuracy: 0.8650\n",
            "Epoch 88/100\n",
            "1500/1500 [==============================] - 4s 2ms/step - loss: 0.2510 - accuracy: 0.9138 - val_loss: 0.6233 - val_accuracy: 0.8675\n",
            "Epoch 89/100\n",
            "1500/1500 [==============================] - 4s 2ms/step - loss: 0.2531 - accuracy: 0.9121 - val_loss: 0.5962 - val_accuracy: 0.8612\n",
            "Epoch 90/100\n",
            "1500/1500 [==============================] - 4s 2ms/step - loss: 0.2519 - accuracy: 0.9121 - val_loss: 0.6150 - val_accuracy: 0.8576\n",
            "Epoch 91/100\n",
            "1500/1500 [==============================] - 4s 2ms/step - loss: 0.2504 - accuracy: 0.9137 - val_loss: 0.6025 - val_accuracy: 0.8637\n",
            "Epoch 92/100\n",
            "1500/1500 [==============================] - 4s 2ms/step - loss: 0.2485 - accuracy: 0.9143 - val_loss: 0.6237 - val_accuracy: 0.8639\n",
            "Epoch 93/100\n",
            "1500/1500 [==============================] - 4s 2ms/step - loss: 0.2489 - accuracy: 0.9153 - val_loss: 0.6310 - val_accuracy: 0.8583\n",
            "Epoch 94/100\n",
            "1500/1500 [==============================] - 4s 2ms/step - loss: 0.2493 - accuracy: 0.9143 - val_loss: 0.6419 - val_accuracy: 0.8483\n",
            "Epoch 95/100\n",
            "1500/1500 [==============================] - 4s 2ms/step - loss: 0.2492 - accuracy: 0.9152 - val_loss: 0.6502 - val_accuracy: 0.8663\n",
            "Epoch 96/100\n",
            "1500/1500 [==============================] - 4s 2ms/step - loss: 0.2483 - accuracy: 0.9147 - val_loss: 0.6369 - val_accuracy: 0.8631\n",
            "Epoch 97/100\n",
            "1500/1500 [==============================] - 3s 2ms/step - loss: 0.2490 - accuracy: 0.9149 - val_loss: 0.6215 - val_accuracy: 0.8570\n",
            "Epoch 98/100\n",
            "1500/1500 [==============================] - 3s 2ms/step - loss: 0.2488 - accuracy: 0.9149 - val_loss: 0.6363 - val_accuracy: 0.8632\n",
            "Epoch 99/100\n",
            "1500/1500 [==============================] - 3s 2ms/step - loss: 0.2482 - accuracy: 0.9147 - val_loss: 0.6412 - val_accuracy: 0.8586\n",
            "Epoch 100/100\n",
            "1500/1500 [==============================] - 3s 2ms/step - loss: 0.2474 - accuracy: 0.9147 - val_loss: 0.6287 - val_accuracy: 0.8575\n"
          ],
          "name": "stdout"
        }
      ]
    },
    {
      "cell_type": "code",
      "metadata": {
        "id": "okB05Mf0Hg9S",
        "colab_type": "code",
        "colab": {}
      },
      "source": [
        "def plot_losses(hist):\n",
        "    plt.plot(hist.history['loss'])\n",
        "    plt.plot(hist.history['val_loss'])\n",
        "    plt.title('Model Loss')\n",
        "    plt.ylabel('Loss')\n",
        "    plt.xlabel('Epoch')\n",
        "    plt.legend(['Train', 'Val'])\n",
        "    plt.show()\n",
        "def plot_accuracies(hist):\n",
        "    plt.plot(hist.history['accuracy'])\n",
        "    plt.plot(hist.history['val_accuracy'])\n",
        "    plt.title('Model Accuracy')\n",
        "    plt.ylabel('Accuracy')\n",
        "    plt.xlabel('Epoch')\n",
        "    plt.legend(['Train', 'Val'])\n",
        "    plt.show()"
      ],
      "execution_count": 27,
      "outputs": []
    },
    {
      "cell_type": "code",
      "metadata": {
        "id": "kwLRaQ1KMuOl",
        "colab_type": "code",
        "colab": {
          "base_uri": "https://localhost:8080/",
          "height": 573
        },
        "outputId": "d0b8185e-cd4d-4e8e-df3d-ff8efdd72a30"
      },
      "source": [
        "# Plot your losses and accuracies\n",
        "plot_losses(hist)\n",
        "plot_accuracies(hist)"
      ],
      "execution_count": 28,
      "outputs": [
        {
          "output_type": "display_data",
          "data": {
            "image/png": "[encoded data removed]",
            "text/plain": [
              "<Figure size 432x288 with 1 Axes>"
            ]
          },
          "metadata": {
            "tags": [],
            "needs_background": "light"
          }
        },
        {
          "output_type": "display_data",
          "data": {
            "image/png": "[encoded data removed]",
            "text/plain": [
              "<Figure size 432x288 with 1 Axes>"
            ]
          },
          "metadata": {
            "tags": [],
            "needs_background": "light"
          }
        }
      ]
    },
    {
      "cell_type": "markdown",
      "metadata": {
        "id": "aI9sQv21VXzI",
        "colab_type": "text"
      },
      "source": [
        "### Question 2.4) Observation\n",
        "How did your neural network perform? What hyperparameters and optimizer did you choose?"
      ]
    },
    {
      "cell_type": "markdown",
      "metadata": {
        "id": "wnsDckNTWWnI",
        "colab_type": "text"
      },
      "source": [
        "The neural network performed well with accuracy in the mid to high 80s%. The loss on the testing data however increased for each Epoch which I believe suggests overfitting. To combat this, an implementation of regression could be used. Epochs were set to 100 and data split at 0.2 per the instructions. The optimizer used was RMSprop with a learning rate set to 0.001. The loss was set to sparse_categorical_crossentropy and metrics set to accuracy, per the instructions. The activation functions used were relu (20) and softmax (10). "
      ]
    },
    {
      "cell_type": "markdown",
      "metadata": {
        "_uuid": "bca889c929920fd204e28dd8ba3bf747abfe4866",
        "id": "HwHNu13zLhbq",
        "colab_type": "text"
      },
      "source": [
        "## Question 3: Building a Convolutional Neural Network\n",
        "\n",
        "In this exercise, we will build a classifier model that is able to distinguish between 10 different classes of images - airplanes, cars, birds, cats, deer, dogs, frogs, horses, ships, and trucks. We will follow these steps:\n",
        "\n",
        "1. Explore the example data\n",
        "2. Build a small convnet to solve our classification problem\n",
        "3. Evaluate training and validation accuracy"
      ]
    },
    {
      "cell_type": "markdown",
      "metadata": {
        "id": "rxedzNz3Lhbq",
        "colab_type": "text"
      },
      "source": [
        "###  Data Exploration and Preparation\n",
        "\n",
        "We'll start by downloading the CIFAR-10 dataset from Keras.\n",
        "\n",
        "This is a link to the dataset documentation:\n",
        "https://keras.io/datasets/#cifar10-small-image-classification\n",
        "\n",
        "And a link to the dataset source:\n",
        "https://www.cs.toronto.edu/~kriz/cifar.html\n",
        "\n",
        "Be sure to set your Runtime environment to include a GPU, as it will speed up the training considerably (this time that's important!)."
      ]
    },
    {
      "cell_type": "markdown",
      "metadata": {
        "id": "hT9YYUNlLhbr",
        "colab_type": "text"
      },
      "source": [
        "#### Loading data into local variables"
      ]
    },
    {
      "cell_type": "code",
      "metadata": {
        "id": "qIPX5X2VLhbs",
        "colab_type": "code",
        "colab": {}
      },
      "source": [
        "from keras.datasets import cifar10\n",
        "\n",
        "# Fetch the data:\n",
        "(X, y), (_, _) = cifar10.load_data()"
      ],
      "execution_count": 70,
      "outputs": []
    },
    {
      "cell_type": "markdown",
      "metadata": {
        "_uuid": "892a9fe20cb70273b84d120b69e8d8cef65c7e80",
        "id": "sI_-5NB-Lhb3",
        "colab_type": "text"
      },
      "source": [
        "####  Import needed functions and libraries"
      ]
    },
    {
      "cell_type": "code",
      "metadata": {
        "_uuid": "743b574dc8902f9376b0293208139192ed5717d1",
        "colab_type": "code",
        "id": "z19bVm7o9zeu",
        "colab": {}
      },
      "source": [
        "# Ignore the warnings - Otherwise, TensorFlow tends to innundate one with far too many warnings.\n",
        "import warnings\n",
        "warnings.filterwarnings('always')\n",
        "warnings.filterwarnings('ignore')\n",
        "\n",
        "# For matrix operations and dataframes.\n",
        "import numpy as np\n",
        "\n",
        "# Data visualizaton.\n",
        "import matplotlib.pyplot as plt\n",
        "from matplotlib import style\n",
        "import seaborn as sns\n",
        "import random as rn\n",
        " \n",
        "# Configure some defaults.\n",
        "%matplotlib inline  \n",
        "style.use('fivethirtyeight')\n",
        "sns.set(style='whitegrid',color_codes=True)\n",
        "\n",
        "# Useful deep learning functions.\n",
        "from tensorflow.keras import backend as K\n",
        "from tensorflow.keras.models import Sequential\n",
        "from tensorflow.keras.layers import Dense\n",
        "from tensorflow.keras.optimizers import Adam, SGD, Adagrad, Adadelta, RMSprop \n",
        "from tensorflow.keras.utils import to_categorical\n",
        "from tensorflow.keras.layers import Dropout, Flatten, Activation\n",
        "from tensorflow.keras.layers import Conv2D, MaxPooling2D\n",
        "\n",
        "# Powerful deep learning module.\n",
        "import tensorflow as tf\n",
        "\n",
        "# For dealing with data.\n",
        "import numpy as np  "
      ],
      "execution_count": 71,
      "outputs": []
    },
    {
      "cell_type": "markdown",
      "metadata": {
        "_uuid": "c24f32b5ef905f9c4df2a020be4419a77c80237e",
        "id": "892A1wjvLhb7",
        "colab_type": "text"
      },
      "source": [
        "#### Data Preparation & Exploration\n",
        "Let's take a look at a few of these images. Rerun this cell multiple times to see different images for each class.\n",
        "\n",
        "You may notice that these images look low fidelity, which is because they are! As we increase our image size, we also increase our model complexity. What's important is that our classes are still distinguishable from each other."
      ]
    },
    {
      "cell_type": "code",
      "metadata": {
        "_uuid": "a27c478fcac8675aadd40f96fd144a805475b681",
        "colab_type": "code",
        "id": "gPolpADLYv9p",
        "scrolled": true,
        "colab": {
          "base_uri": "https://localhost:8080/",
          "height": 367
        },
        "outputId": "398446c0-21b4-40b4-fd4c-c194ed355854"
      },
      "source": [
        "fig, ax = plt.subplots(2, 5)\n",
        "fig.set_size_inches(10, 6)\n",
        "\n",
        "for i in range(2):\n",
        "    for j in range(5):\n",
        "        c = j + 5*i # Class counter\n",
        "        l = np.random.choice(np.where(y == c)[0], 1)[0] # Get a random image from class c\n",
        "        ax[i, j].imshow(X[l])\n",
        "        ax[i, j].set_title('Class: ' + str(y[l]))\n",
        "        # Hide grid lines\n",
        "        ax[i, j].grid(False)\n",
        "        # Hide axes ticks\n",
        "        ax[i, j].set_xticks([])\n",
        "        ax[i, j].set_yticks([])\n",
        "        \n",
        "plt.tight_layout()"
      ],
      "execution_count": 72,
      "outputs": [
        {
          "output_type": "display_data",
          "data": {
            "image/png": "[encoded data removed]",
            "text/plain": [
              "<Figure size 720x432 with 10 Axes>"
            ]
          },
          "metadata": {
            "tags": []
          }
        }
      ]
    },
    {
      "cell_type": "markdown",
      "metadata": {
        "id": "vddd-xejqVV7",
        "colab_type": "text"
      },
      "source": [
        "#### Let's take a look at the format of our data"
      ]
    },
    {
      "cell_type": "code",
      "metadata": {
        "id": "aSmQVBA7qaxd",
        "colab_type": "code",
        "colab": {
          "base_uri": "https://localhost:8080/",
          "height": 51
        },
        "outputId": "4f423ad0-9fd3-444b-ed0c-3a2dc5dbd767"
      },
      "source": [
        "print('X (images)', X.shape)\n",
        "print('y (classes)', y.shape)"
      ],
      "execution_count": 73,
      "outputs": [
        {
          "output_type": "stream",
          "text": [
            "X (images) (50000, 32, 32, 3)\n",
            "y (classes) (50000, 1)\n"
          ],
          "name": "stdout"
        }
      ]
    },
    {
      "cell_type": "markdown",
      "metadata": {
        "id": "ytuPNJQWqkZX",
        "colab_type": "text"
      },
      "source": [
        "We can see that we have 50,000 samples, where each images is 32 by 32 pixels with 3 color channels: RGB.\n",
        "\n",
        "For each of these images, we have a single label for which class they each belong to."
      ]
    },
    {
      "cell_type": "markdown",
      "metadata": {
        "_uuid": "77ec9e39e572f004918ea99a6866ee3a06c68324",
        "id": "NCS6ejuoLhcH",
        "colab_type": "text"
      },
      "source": [
        "#### One-hot encode the labels, and normalize the data\n",
        "\n",
        "Similarly to previous exercises, we want to one hot encode our class labels. We also want to normalize our image data similarly to the previous question."
      ]
    },
    {
      "cell_type": "code",
      "metadata": {
        "id": "DT_F8m-vLhcI",
        "colab_type": "code",
        "colab": {}
      },
      "source": [
        "# One-hot encode those integer values of class labels\n",
        "### YOUR CODE HERE Probbaly want to reshape ###\n",
        "y = to_categorical(y,10)\n",
        "\n",
        "# Normalize all entries to the interval [0, 1]\n",
        "### YOUR CODE HERE ###\n",
        "X = X / 225"
      ],
      "execution_count": 74,
      "outputs": []
    },
    {
      "cell_type": "markdown",
      "metadata": {
        "_uuid": "b8952f9ac2af66841a9c000126de56b44301d3ce",
        "id": "H9PP4rQhLhdD",
        "colab_type": "text"
      },
      "source": [
        "### Question 3.1)\n",
        "Create your own deep learning architecture, and train it on the dataset above. If you're unsure where to start, begin by referencing the in class exercises. \n",
        "\n",
        "One suggestion is to add several convolution layers each followed by a maxpooling layer. Towards the end you can add one or more fully connected layers. Dropout layers are often useful after each fully connected layer for overfitting, and you can try experimenting with that parameter. Your model should be able to reach **70% validation accuracy**.\n",
        "\n",
        "You are responsible for your model architecture, hyperparameters, and optimizer. \n",
        "\n",
        "**HOWEVER, you are limited to a maximum of 50 epochs and 500,000 model parameters! You will lose points for exceeding these limits.**"
      ]
    },
    {
      "cell_type": "code",
      "metadata": {
        "id": "mVjSUo_9LhdE",
        "colab_type": "code",
        "colab": {}
      },
      "source": [
        "# This is where we define the architecture of our deep neural network.\n",
        "model = Sequential()\n",
        "\n",
        "### YOUR CODE HERE ###\n",
        "\n",
        "model.add(Conv2D(filters = 16,\n",
        "                 kernel_size = (3, 3),\n",
        "                 padding = 'Same',\n",
        "                 activation = 'relu',\n",
        "                 input_shape = (32, 32, 3)))\n",
        "\n",
        "model.add(MaxPooling2D(pool_size = (2,2)))\n",
        "\n",
        "model.add(Conv2D(filters = 64,\n",
        "                 kernel_size = (3, 3),\n",
        "                 padding = 'Same',\n",
        "                 activation = 'relu',\n",
        "                 input_shape = (32, 32, 3)))\n",
        "\n",
        "model.add(MaxPooling2D(pool_size = (2,2)))\n",
        "\n",
        "model.add(Conv2D(filters = 128,\n",
        "                 kernel_size = (3, 3),\n",
        "                 padding = 'Same',\n",
        "                 activation = 'relu'))\n",
        "\n",
        "model.add(MaxPooling2D(pool_size = (2,2)))\n",
        "\n",
        "model.add(Flatten())\n",
        "\n",
        "model.add(Dense(20, activation = 'relu'))\n",
        "\n",
        "model.add(Dropout(0.3))\n",
        "\n",
        "model.add(Dense(10, activation = \"softmax\"))\n"
      ],
      "execution_count": 75,
      "outputs": []
    },
    {
      "cell_type": "code",
      "metadata": {
        "id": "PO003fD15wop",
        "colab_type": "code",
        "colab": {}
      },
      "source": [
        "# A batch is the size of each training chunk. We're implementing batch gradient descent, which is in between\n",
        "# stochastic gradient descent and full gradient descent.\n",
        "### YOUR CODE HERE ###\n",
        "batchsize = 200\n",
        "\n",
        "# Each epoch goes through the entire training set once\n",
        "### YOUR CODE HERE ### MAXIMUM OF 50!\n",
        "epochs = 50"
      ],
      "execution_count": 76,
      "outputs": []
    },
    {
      "cell_type": "code",
      "metadata": {
        "id": "o4reatYS5edV",
        "colab_type": "code",
        "colab": {}
      },
      "source": [
        "### YOUR CODE HERE ###\n",
        "opt = RMSprop(lr = 0.001)\n",
        "\n",
        "model.compile(optimizer = opt,\n",
        "              loss = 'categorical_crossentropy',\n",
        "              metrics = ['accuracy'])"
      ],
      "execution_count": 77,
      "outputs": []
    },
    {
      "cell_type": "code",
      "metadata": {
        "id": "0FDudYr552rv",
        "colab_type": "code",
        "colab": {
          "base_uri": "https://localhost:8080/",
          "height": 493
        },
        "outputId": "17b64881-5e48-44e9-f62d-3f35ce0bf01e"
      },
      "source": [
        "model.summary()\n",
        "# MAXIMUM OF 500,000 PARAMETERS!"
      ],
      "execution_count": 78,
      "outputs": [
        {
          "output_type": "stream",
          "text": [
            "Model: \"sequential_4\"\n",
            "_________________________________________________________________\n",
            "Layer (type)                 Output Shape              Param #   \n",
            "=================================================================\n",
            "conv2d_12 (Conv2D)           (None, 32, 32, 16)        448       \n",
            "_________________________________________________________________\n",
            "max_pooling2d_12 (MaxPooling (None, 16, 16, 16)        0         \n",
            "_________________________________________________________________\n",
            "conv2d_13 (Conv2D)           (None, 16, 16, 64)        9280      \n",
            "_________________________________________________________________\n",
            "max_pooling2d_13 (MaxPooling (None, 8, 8, 64)          0         \n",
            "_________________________________________________________________\n",
            "conv2d_14 (Conv2D)           (None, 8, 8, 128)         73856     \n",
            "_________________________________________________________________\n",
            "max_pooling2d_14 (MaxPooling (None, 4, 4, 128)         0         \n",
            "_________________________________________________________________\n",
            "flatten_4 (Flatten)          (None, 2048)              0         \n",
            "_________________________________________________________________\n",
            "dense_13 (Dense)             (None, 20)                40980     \n",
            "_________________________________________________________________\n",
            "dropout_4 (Dropout)          (None, 20)                0         \n",
            "_________________________________________________________________\n",
            "dense_14 (Dense)             (None, 10)                210       \n",
            "=================================================================\n",
            "Total params: 124,774\n",
            "Trainable params: 124,774\n",
            "Non-trainable params: 0\n",
            "_________________________________________________________________\n"
          ],
          "name": "stdout"
        }
      ]
    },
    {
      "cell_type": "code",
      "metadata": {
        "id": "kK7nvHYr6P4J",
        "colab_type": "code",
        "colab": {
          "base_uri": "https://localhost:8080/",
          "height": 1000
        },
        "outputId": "dedd8bff-d25d-47c5-b363-a1456c572de3"
      },
      "source": [
        "history = model.fit(X, y,\n",
        "                    batch_size = batchsize,\n",
        "                    epochs = epochs, \n",
        "                    validation_split = 0.2,\n",
        "                    verbose = 1)"
      ],
      "execution_count": 79,
      "outputs": [
        {
          "output_type": "stream",
          "text": [
            "Epoch 1/50\n",
            "200/200 [==============================] - 2s 11ms/step - loss: 2.0559 - accuracy: 0.2341 - val_loss: 1.7772 - val_accuracy: 0.4053\n",
            "Epoch 2/50\n",
            "200/200 [==============================] - 2s 10ms/step - loss: 1.7672 - accuracy: 0.3520 - val_loss: 1.5203 - val_accuracy: 0.4632\n",
            "Epoch 3/50\n",
            "200/200 [==============================] - 2s 10ms/step - loss: 1.5894 - accuracy: 0.4197 - val_loss: 1.3847 - val_accuracy: 0.5088\n",
            "Epoch 4/50\n",
            "200/200 [==============================] - 2s 11ms/step - loss: 1.4900 - accuracy: 0.4582 - val_loss: 1.3272 - val_accuracy: 0.5392\n",
            "Epoch 5/50\n",
            "200/200 [==============================] - 2s 10ms/step - loss: 1.3972 - accuracy: 0.4943 - val_loss: 1.2571 - val_accuracy: 0.5717\n",
            "Epoch 6/50\n",
            "200/200 [==============================] - 2s 10ms/step - loss: 1.3260 - accuracy: 0.5248 - val_loss: 1.2399 - val_accuracy: 0.5663\n",
            "Epoch 7/50\n",
            "200/200 [==============================] - 2s 10ms/step - loss: 1.2629 - accuracy: 0.5465 - val_loss: 1.1427 - val_accuracy: 0.5960\n",
            "Epoch 8/50\n",
            "200/200 [==============================] - 2s 10ms/step - loss: 1.2094 - accuracy: 0.5690 - val_loss: 1.0687 - val_accuracy: 0.6317\n",
            "Epoch 9/50\n",
            "200/200 [==============================] - 2s 10ms/step - loss: 1.1649 - accuracy: 0.5874 - val_loss: 1.0038 - val_accuracy: 0.6560\n",
            "Epoch 10/50\n",
            "200/200 [==============================] - 2s 10ms/step - loss: 1.1099 - accuracy: 0.6068 - val_loss: 0.9723 - val_accuracy: 0.6603\n",
            "Epoch 11/50\n",
            "200/200 [==============================] - 2s 10ms/step - loss: 1.0708 - accuracy: 0.6231 - val_loss: 0.9370 - val_accuracy: 0.6756\n",
            "Epoch 12/50\n",
            "200/200 [==============================] - 2s 10ms/step - loss: 1.0218 - accuracy: 0.6377 - val_loss: 0.9308 - val_accuracy: 0.6758\n",
            "Epoch 13/50\n",
            "200/200 [==============================] - 2s 10ms/step - loss: 0.9948 - accuracy: 0.6481 - val_loss: 0.8994 - val_accuracy: 0.6942\n",
            "Epoch 14/50\n",
            "200/200 [==============================] - 2s 10ms/step - loss: 0.9575 - accuracy: 0.6615 - val_loss: 0.9069 - val_accuracy: 0.6837\n",
            "Epoch 15/50\n",
            "200/200 [==============================] - 2s 10ms/step - loss: 0.9302 - accuracy: 0.6724 - val_loss: 0.8755 - val_accuracy: 0.7031\n",
            "Epoch 16/50\n",
            "200/200 [==============================] - 2s 10ms/step - loss: 0.9024 - accuracy: 0.6787 - val_loss: 0.8633 - val_accuracy: 0.6997\n",
            "Epoch 17/50\n",
            "200/200 [==============================] - 2s 10ms/step - loss: 0.8789 - accuracy: 0.6876 - val_loss: 0.8738 - val_accuracy: 0.7048\n",
            "Epoch 18/50\n",
            "200/200 [==============================] - 2s 10ms/step - loss: 0.8531 - accuracy: 0.6975 - val_loss: 0.8592 - val_accuracy: 0.7085\n",
            "Epoch 19/50\n",
            "200/200 [==============================] - 2s 10ms/step - loss: 0.8220 - accuracy: 0.7064 - val_loss: 0.8192 - val_accuracy: 0.7192\n",
            "Epoch 20/50\n",
            "200/200 [==============================] - 2s 10ms/step - loss: 0.7955 - accuracy: 0.7164 - val_loss: 0.8387 - val_accuracy: 0.7116\n",
            "Epoch 21/50\n",
            "200/200 [==============================] - 2s 10ms/step - loss: 0.7770 - accuracy: 0.7242 - val_loss: 0.8306 - val_accuracy: 0.7201\n",
            "Epoch 22/50\n",
            "200/200 [==============================] - 2s 10ms/step - loss: 0.7459 - accuracy: 0.7309 - val_loss: 0.8358 - val_accuracy: 0.7219\n",
            "Epoch 23/50\n",
            "200/200 [==============================] - 2s 10ms/step - loss: 0.7279 - accuracy: 0.7413 - val_loss: 0.8304 - val_accuracy: 0.7227\n",
            "Epoch 24/50\n",
            "200/200 [==============================] - 2s 10ms/step - loss: 0.7126 - accuracy: 0.7415 - val_loss: 0.8518 - val_accuracy: 0.7170\n",
            "Epoch 25/50\n",
            "200/200 [==============================] - 2s 10ms/step - loss: 0.6958 - accuracy: 0.7490 - val_loss: 0.8454 - val_accuracy: 0.7173\n",
            "Epoch 26/50\n",
            "200/200 [==============================] - 2s 10ms/step - loss: 0.6790 - accuracy: 0.7544 - val_loss: 0.8328 - val_accuracy: 0.7271\n",
            "Epoch 27/50\n",
            "200/200 [==============================] - 2s 10ms/step - loss: 0.6603 - accuracy: 0.7613 - val_loss: 0.8852 - val_accuracy: 0.7083\n",
            "Epoch 28/50\n",
            "200/200 [==============================] - 2s 10ms/step - loss: 0.6451 - accuracy: 0.7655 - val_loss: 0.8769 - val_accuracy: 0.7187\n",
            "Epoch 29/50\n",
            "200/200 [==============================] - 2s 10ms/step - loss: 0.6278 - accuracy: 0.7729 - val_loss: 0.8899 - val_accuracy: 0.7187\n",
            "Epoch 30/50\n",
            "200/200 [==============================] - 2s 10ms/step - loss: 0.6176 - accuracy: 0.7733 - val_loss: 0.8683 - val_accuracy: 0.7248\n",
            "Epoch 31/50\n",
            "200/200 [==============================] - 2s 10ms/step - loss: 0.5969 - accuracy: 0.7803 - val_loss: 0.9731 - val_accuracy: 0.7018\n",
            "Epoch 32/50\n",
            "200/200 [==============================] - 2s 10ms/step - loss: 0.5803 - accuracy: 0.7876 - val_loss: 0.9283 - val_accuracy: 0.7212\n",
            "Epoch 33/50\n",
            "200/200 [==============================] - 2s 10ms/step - loss: 0.5760 - accuracy: 0.7895 - val_loss: 0.8995 - val_accuracy: 0.7189\n",
            "Epoch 34/50\n",
            "200/200 [==============================] - 2s 10ms/step - loss: 0.5512 - accuracy: 0.7996 - val_loss: 0.9204 - val_accuracy: 0.7110\n",
            "Epoch 35/50\n",
            "200/200 [==============================] - 2s 10ms/step - loss: 0.5433 - accuracy: 0.8010 - val_loss: 0.9250 - val_accuracy: 0.7273\n",
            "Epoch 36/50\n",
            "200/200 [==============================] - 2s 10ms/step - loss: 0.5250 - accuracy: 0.8096 - val_loss: 0.9634 - val_accuracy: 0.7140\n",
            "Epoch 37/50\n",
            "200/200 [==============================] - 2s 10ms/step - loss: 0.5167 - accuracy: 0.8092 - val_loss: 0.9619 - val_accuracy: 0.7197\n",
            "Epoch 38/50\n",
            "200/200 [==============================] - 2s 10ms/step - loss: 0.5067 - accuracy: 0.8143 - val_loss: 0.9965 - val_accuracy: 0.7146\n",
            "Epoch 39/50\n",
            "200/200 [==============================] - 2s 10ms/step - loss: 0.4931 - accuracy: 0.8184 - val_loss: 0.9917 - val_accuracy: 0.7163\n",
            "Epoch 40/50\n",
            "200/200 [==============================] - 2s 10ms/step - loss: 0.4858 - accuracy: 0.8215 - val_loss: 0.9666 - val_accuracy: 0.7286\n",
            "Epoch 41/50\n",
            "200/200 [==============================] - 2s 10ms/step - loss: 0.4729 - accuracy: 0.8272 - val_loss: 1.0787 - val_accuracy: 0.7211\n",
            "Epoch 42/50\n",
            "200/200 [==============================] - 2s 10ms/step - loss: 0.4623 - accuracy: 0.8296 - val_loss: 0.9937 - val_accuracy: 0.7262\n",
            "Epoch 43/50\n",
            "200/200 [==============================] - 2s 10ms/step - loss: 0.4568 - accuracy: 0.8298 - val_loss: 1.0251 - val_accuracy: 0.7208\n",
            "Epoch 44/50\n",
            "200/200 [==============================] - 2s 10ms/step - loss: 0.4425 - accuracy: 0.8361 - val_loss: 1.0307 - val_accuracy: 0.7260\n",
            "Epoch 45/50\n",
            "200/200 [==============================] - 2s 10ms/step - loss: 0.4360 - accuracy: 0.8385 - val_loss: 1.0965 - val_accuracy: 0.7187\n",
            "Epoch 46/50\n",
            "200/200 [==============================] - 2s 10ms/step - loss: 0.4280 - accuracy: 0.8419 - val_loss: 1.0503 - val_accuracy: 0.7180\n",
            "Epoch 47/50\n",
            "200/200 [==============================] - 2s 10ms/step - loss: 0.4201 - accuracy: 0.8461 - val_loss: 1.0893 - val_accuracy: 0.7226\n",
            "Epoch 48/50\n",
            "200/200 [==============================] - 2s 10ms/step - loss: 0.4161 - accuracy: 0.8476 - val_loss: 1.1376 - val_accuracy: 0.7176\n",
            "Epoch 49/50\n",
            "200/200 [==============================] - 2s 10ms/step - loss: 0.4053 - accuracy: 0.8504 - val_loss: 1.1651 - val_accuracy: 0.7157\n",
            "Epoch 50/50\n",
            "200/200 [==============================] - 2s 10ms/step - loss: 0.4012 - accuracy: 0.8510 - val_loss: 1.1542 - val_accuracy: 0.7287\n"
          ],
          "name": "stdout"
        }
      ]
    },
    {
      "cell_type": "markdown",
      "metadata": {
        "id": "-NrXxz4pLhdG",
        "colab_type": "text"
      },
      "source": [
        "### Question 3.2)\n",
        "Create training and validation loss and accuracy plots as above."
      ]
    },
    {
      "cell_type": "code",
      "metadata": {
        "id": "ri2mViLfLhdG",
        "colab_type": "code",
        "colab": {
          "base_uri": "https://localhost:8080/",
          "height": 617
        },
        "outputId": "1057de22-37ae-4b97-8fad-bd5f60931185"
      },
      "source": [
        "### YOUR CODE HERE ###\n",
        "def plot_losses(hist):\n",
        "    plt.plot(hist.history['loss'])\n",
        "    plt.plot(hist.history['val_loss'])\n",
        "    plt.title('Model Loss')\n",
        "    plt.ylabel('Loss')\n",
        "    plt.xlabel('Epoch')\n",
        "    plt.legend(['Train', 'Val'])\n",
        "    plt.show()\n",
        "def plot_accuracies(hist):\n",
        "    plt.plot(hist.history['accuracy'])\n",
        "    plt.plot(hist.history['val_accuracy'])\n",
        "    plt.title('Model Accuracy')\n",
        "    plt.ylabel('Accuracy')\n",
        "    plt.xlabel('Epoch')\n",
        "    plt.legend(['Train', 'Val'])\n",
        "    plt.show()\n",
        "\n",
        "plot_losses(history)\n",
        "plot_accuracies(history)"
      ],
      "execution_count": 80,
      "outputs": [
        {
          "output_type": "display_data",
          "data": {
            "image/png": "[encoded data removed]",
            "text/plain": [
              "<Figure size 432x288 with 1 Axes>"
            ]
          },
          "metadata": {
            "tags": []
          }
        },
        {
          "output_type": "display_data",
          "data": {
            "image/png": "[encoded data removed]",
            "text/plain": [
              "<Figure size 432x288 with 1 Axes>"
            ]
          },
          "metadata": {
            "tags": []
          }
        }
      ]
    }
  ]
}