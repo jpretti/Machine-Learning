{
  "nbformat": 4,
  "nbformat_minor": 0,
  "metadata": {
    "colab": {
      "name": "Copy of Assignment2.ipynb",
      "provenance": [],
      "collapsed_sections": []
    },
    "kernelspec": {
      "name": "python3",
      "display_name": "Python 3"
    }
  },
  "cells": [
    {
      "cell_type": "markdown",
      "metadata": {
        "id": "IDo6Mz1MoJxR",
        "colab_type": "text"
      },
      "source": [
        "# Assignment 2\n",
        "\n",
        "**DUE: Sunday July 5, 2020 11:59pm**\n",
        "\n",
        "Turn in the assignment via Canvas.\n",
        "\n",
        "To write legible answers you will need to be familiar with both [Markdown](https://github.com/adam-p/markdown-here/wiki/Markdown-Cheatsheet) and [Latex](https://www.latex-tutorial.com/tutorials/amsmath/)\n",
        "\n",
        "Before you turn this problem in, make sure everything runs as expected. First, restart the kernel (in the menubar, select Kernel→→Restart) and then run all cells (in the menubar, select Cell→→Run All).\n",
        "\n",
        "Make sure you fill in any place that says \"YOUR CODE HERE\" or \"YOUR ANSWER HERE\", as well as your name below:"
      ]
    },
    {
      "cell_type": "code",
      "metadata": {
        "id": "nOfazHDtoJxS",
        "colab_type": "code",
        "colab": {}
      },
      "source": [
        "NAME = \"James Pretti\"\n",
        "STUDENT_ID = \"1676114\""
      ],
      "execution_count": 62,
      "outputs": []
    },
    {
      "cell_type": "markdown",
      "metadata": {
        "id": "wyRMGyp9Y9c3",
        "colab_type": "text"
      },
      "source": [
        "## Question 1 - Linear Regression\n",
        "---\n",
        "\n",
        "Inspiration for this question comes from: [1](https://mubaris.com/posts/linear-regression/) and [2](http://vxy10.github.io/2016/06/25/lin-reg-matrix/).\n",
        "\n",
        "In this question, you will be implementing the linear regression algorithm from scratch in Python. As you know, linear regression aims to map feature vectors to a continuous value in the range $[-\\infty,+\\infty]$ by linearly combining the feature values.\n",
        "\n",
        "### Model Representation\n",
        "As you have seen previously in assignment 1, we represent our data as a dataframe or a feature matrix. \n",
        "\n",
        "Let our feature matrix be $X$ whose dimensions are $n \\times m$, $\\theta$ be a weight matrix of dimensions $m \\times 1$, the bias vector $b$ a column vector of dimension $n\\times 1$. Using these we can predict $\\hat{Y}$\n",
        "by the following relationship:\n",
        "\n",
        "$$\\hat{Y} = X\\theta + b$$ \n",
        "\n",
        "(Does this look familiar? Remember $y = mx + b$)\n",
        "\n",
        "### Data: Facebook posts metrics\n",
        "\n",
        "This data contains features describing posts from a cosmetic brand's Facebook page. The authors use the following features: \n",
        "\n",
        "* Category,\n",
        "* Page total likes: Number of people who have liked the company's page), \n",
        "* Type: Type of content (Link, Photo, Status, Video), \n",
        "* Post month: Month the post was published (January, February, March, …, December), \n",
        "* Post hour: Hour the post was published (0, 1, 2, 3, 4, …, 23) , \n",
        "* Post weekday: Weekday the post was published (Sunday, Monday, …,\n",
        "Saturday) , \n",
        "* Paid: If the company paid to Facebook for advertising (yes, no)\n",
        "\n",
        "to model: \n",
        "\n",
        "'Lifetime Post Total Reach', 'Lifetime Post Total Impressions', 'Lifetime Engaged Users', 'Lifetime Post Consumers',\n",
        "'Lifetime Post Consumptions', 'Lifetime Post Impressions by people who have liked your Page', 'Lifetime Post reach by people who like your Page', 'Lifetime People who have liked your Page and engaged with your post', 'comment', 'like', 'share', 'Total Interactions'.\n",
        "\n",
        "\n",
        "There are many possible features we could try to model, but we will focus on 'Total Interactions'. Our feature space will include: Category, Page total likes, Post month, Post hour, Post weekday, and Paid. We drop \"Type\" simply to avoid preprocessing.\n",
        "\n",
        "You can read more about the dataset [here](http://archive.ics.uci.edu/ml/datasets/Facebook+metrics).\n",
        "\n",
        "\n",
        "\n",
        "\n"
      ]
    },
    {
      "cell_type": "markdown",
      "metadata": {
        "id": "WVmH8qFoc3pi",
        "colab_type": "text"
      },
      "source": [
        "### Downloading the data"
      ]
    },
    {
      "cell_type": "code",
      "metadata": {
        "id": "uyeKP1Hqc4OU",
        "colab_type": "code",
        "colab": {
          "base_uri": "https://localhost:8080/",
          "height": 224
        },
        "outputId": "b794a3b2-b5b6-4dc4-ca34-ae5a9982cbf9"
      },
      "source": [
        "!wget http://archive.ics.uci.edu/ml/machine-learning-databases/00368/Facebook_metrics.zip -O ./Facebook_metrics.zip\n",
        "import zipfile\n",
        "with zipfile.ZipFile('./Facebook_metrics.zip', 'r') as zip_ref:\n",
        "    zip_ref.extractall('./')"
      ],
      "execution_count": 63,
      "outputs": [
        {
          "output_type": "stream",
          "text": [
            "--2020-07-06 23:35:31--  http://archive.ics.uci.edu/ml/machine-learning-databases/00368/Facebook_metrics.zip\n",
            "Resolving archive.ics.uci.edu (archive.ics.uci.edu)... 128.195.10.252\n",
            "Connecting to archive.ics.uci.edu (archive.ics.uci.edu)|128.195.10.252|:80... connected.\n",
            "HTTP request sent, awaiting response... 200 OK\n",
            "Length: 16281 (16K) [application/x-httpd-php]\n",
            "Saving to: ‘./Facebook_metrics.zip’\n",
            "\n",
            "\r./Facebook_metrics.   0%[                    ]       0  --.-KB/s               \r./Facebook_metrics. 100%[===================>]  15.90K  --.-KB/s    in 0.03s   \n",
            "\n",
            "2020-07-06 23:35:31 (535 KB/s) - ‘./Facebook_metrics.zip’ saved [16281/16281]\n",
            "\n"
          ],
          "name": "stdout"
        }
      ]
    },
    {
      "cell_type": "markdown",
      "metadata": {
        "id": "nbxl1mNMrxcQ",
        "colab_type": "text"
      },
      "source": [
        "### Reading in data"
      ]
    },
    {
      "cell_type": "code",
      "metadata": {
        "id": "jm-P1EUzZCFi",
        "colab_type": "code",
        "colab": {
          "base_uri": "https://localhost:8080/",
          "height": 221
        },
        "outputId": "6fb58228-1e18-4779-dbd7-e6da80c4e73b"
      },
      "source": [
        "import pandas as pd\n",
        "import numpy as np\n",
        "np.random.seed(144)\n",
        "'''\n",
        "Shuffles the data in place \n",
        "'''\n",
        "def shuffle_data(data):\n",
        "    np.random.shuffle(data)\n",
        "\n",
        "# Read in the data\n",
        "lr_dataframe = pd.read_csv('dataset_Facebook.csv',sep=';')\n",
        "lr_dataframe.dropna(inplace=True)\n",
        "columns_to_drop = ['Type','Lifetime Post Total Reach', 'Lifetime Post Total Impressions',\n",
        "       'Lifetime Engaged Users', 'Lifetime Post Consumers',\n",
        "       'Lifetime Post Consumptions',\n",
        "       'Lifetime Post Impressions by people who have liked your Page',\n",
        "       'Lifetime Post reach by people who like your Page',\n",
        "       'Lifetime People who have liked your Page and engaged with your post',\n",
        "       'comment', 'like', 'share']\n",
        "lr_dataframe.drop(columns=columns_to_drop,inplace=True)\n",
        "\n",
        "# Normalizing all remaining columns\n",
        "def normalize_col(col):\n",
        "    return (col - col.min())/(col.max() - col.min())\n",
        "  \n",
        "lr_dataframe = lr_dataframe.apply(normalize_col)\n",
        "\n",
        "# Get entries as a numpy array\n",
        "lr_data = lr_dataframe.values[:, :]\n",
        "\n",
        "# Shuffle once for reproducibility\n",
        "shuffle_data(lr_data)\n",
        "\n",
        "lr_dataframe.head()"
      ],
      "execution_count": 64,
      "outputs": [
        {
          "output_type": "execute_result",
          "data": {
            "text/html": [
              "<div>\n",
              "<style scoped>\n",
              "    .dataframe tbody tr th:only-of-type {\n",
              "        vertical-align: middle;\n",
              "    }\n",
              "\n",
              "    .dataframe tbody tr th {\n",
              "        vertical-align: top;\n",
              "    }\n",
              "\n",
              "    .dataframe thead th {\n",
              "        text-align: right;\n",
              "    }\n",
              "</style>\n",
              "<table border=\"1\" class=\"dataframe\">\n",
              "  <thead>\n",
              "    <tr style=\"text-align: right;\">\n",
              "      <th></th>\n",
              "      <th>Page total likes</th>\n",
              "      <th>Category</th>\n",
              "      <th>Post Month</th>\n",
              "      <th>Post Weekday</th>\n",
              "      <th>Post Hour</th>\n",
              "      <th>Paid</th>\n",
              "      <th>Total Interactions</th>\n",
              "    </tr>\n",
              "  </thead>\n",
              "  <tbody>\n",
              "    <tr>\n",
              "      <th>0</th>\n",
              "      <td>0.626716</td>\n",
              "      <td>0.5</td>\n",
              "      <td>0.363636</td>\n",
              "      <td>0.166667</td>\n",
              "      <td>0.454545</td>\n",
              "      <td>0.0</td>\n",
              "      <td>0.036628</td>\n",
              "    </tr>\n",
              "    <tr>\n",
              "      <th>1</th>\n",
              "      <td>0.947513</td>\n",
              "      <td>0.0</td>\n",
              "      <td>0.818182</td>\n",
              "      <td>0.833333</td>\n",
              "      <td>0.045455</td>\n",
              "      <td>0.0</td>\n",
              "      <td>0.010736</td>\n",
              "    </tr>\n",
              "    <tr>\n",
              "      <th>2</th>\n",
              "      <td>0.958981</td>\n",
              "      <td>0.0</td>\n",
              "      <td>0.909091</td>\n",
              "      <td>0.166667</td>\n",
              "      <td>0.454545</td>\n",
              "      <td>1.0</td>\n",
              "      <td>0.019893</td>\n",
              "    </tr>\n",
              "    <tr>\n",
              "      <th>3</th>\n",
              "      <td>0.597906</td>\n",
              "      <td>0.5</td>\n",
              "      <td>0.363636</td>\n",
              "      <td>0.000000</td>\n",
              "      <td>0.090909</td>\n",
              "      <td>0.0</td>\n",
              "      <td>0.048784</td>\n",
              "    </tr>\n",
              "    <tr>\n",
              "      <th>4</th>\n",
              "      <td>1.000000</td>\n",
              "      <td>0.5</td>\n",
              "      <td>1.000000</td>\n",
              "      <td>0.666667</td>\n",
              "      <td>0.409091</td>\n",
              "      <td>0.0</td>\n",
              "      <td>0.016735</td>\n",
              "    </tr>\n",
              "  </tbody>\n",
              "</table>\n",
              "</div>"
            ],
            "text/plain": [
              "   Page total likes  Category  Post Month  ...  Post Hour  Paid  Total Interactions\n",
              "0          0.626716       0.5    0.363636  ...   0.454545   0.0            0.036628\n",
              "1          0.947513       0.0    0.818182  ...   0.045455   0.0            0.010736\n",
              "2          0.958981       0.0    0.909091  ...   0.454545   1.0            0.019893\n",
              "3          0.597906       0.5    0.363636  ...   0.090909   0.0            0.048784\n",
              "4          1.000000       0.5    1.000000  ...   0.409091   0.0            0.016735\n",
              "\n",
              "[5 rows x 7 columns]"
            ]
          },
          "metadata": {
            "tags": []
          },
          "execution_count": 64
        }
      ]
    },
    {
      "cell_type": "markdown",
      "metadata": {
        "id": "Bz0NSog8sH6i",
        "colab_type": "text"
      },
      "source": [
        "### a) Splitting data in $X$ and $Y$\n",
        "In this part we will write functions to split our data into a feature matrix X (augmented by a column of 1's to account for the bias term) and a column vector we wish to predict Y and further split X and Y into X_train, X_test, y_train and y_test for training and testing.\n",
        "\n",
        "i) Split the dataset into $X$ and $Y$. In order to vectorize our calculations, we utilize the [bias trick](https://cs231n.github.io/linear-classify/). This simply means we need to append ones to our $X$ matrix. \n",
        "\n",
        "ii) Split $X$ and $Y$ into the training and test sets using the provided percentage split (default is 80\\% training and 20\\% test)."
      ]
    },
    {
      "cell_type": "code",
      "metadata": {
        "id": "7soUq_JAnog4",
        "colab_type": "code",
        "colab": {}
      },
      "source": [
        "'''\n",
        "Combines one column of all ones and the matrix X to account for the bias term \n",
        "(setting x_0 = 1) - [Hint: you may want to use np.hstack()]\n",
        "Takes input matrix X\n",
        "Returns the augmented input \n",
        "'''\n",
        "def bias_trick(X):\n",
        "    # YOUR CODE HERE\n",
        "    a = X\n",
        "    b = np.ones((len(X), 1), dtype=int)\n",
        "    X = np.hstack((b, a))\n",
        "    return X\n",
        "\n",
        "'''\n",
        "Separates feature vectors and targets \n",
        "Takes raw data\n",
        "Returns X as the matrix of feature vectors and Y as the vector of targets \n",
        "'''\n",
        "def separate_data(data):\n",
        "    # Split into X (remember to use bias trick) and Y\n",
        "    # YOUR CODE HERE\n",
        "    X = data[:, :-1]\n",
        "    X = bias_trick(X)\n",
        "    Y = data[:, -1]\n",
        "    return X, Y\n",
        "  \n",
        "'''\n",
        "Takes raw data in and splits the data into \n",
        "X_train, y_train, X_test, y_test\n",
        "Returns X_train, y_train, X_test, y_test \n",
        "'''\n",
        "def train_test_split(data, train_size=.80):\n",
        "    # YOUR CODE HERE\n",
        "    X, Y = separate_data(data)\n",
        "    split = int(len(X)*train_size)\n",
        "    X_train = X[:split]\n",
        "    y_train = Y[:split]\n",
        "    X_test = X[split:]\n",
        "    y_test = Y[split:]\n",
        "    return X_train, y_train, X_test, y_test"
      ],
      "execution_count": 250,
      "outputs": []
    },
    {
      "cell_type": "markdown",
      "metadata": {
        "id": "q6KAu3sxxzU_",
        "colab_type": "text"
      },
      "source": [
        "### b) Training and testing our model\n",
        "**Refer to the following derivation of the gradient when implementing linear regression and gradient descent below.**\n",
        "\n",
        "For this question, we'll use and implement the Mean Squared Error (MSE), and gradient descent algorithm. Suppose our dataset consists of $n$ records, each with $d$ features:\n",
        "\n",
        "$$X =\n",
        "\\begin{bmatrix}\n",
        "    x_{1,1}       & x_{1,2} & \\cdots & x_{1,d} \\\\\n",
        "    x_{2,1}       & x_{2,2} & \\cdots & x_{2,d} \\\\\n",
        "    \\vdots       & \\vdots & \\ddots & \\vdots \\\\\n",
        "    x_{n,1}       & x_{n,2} & \\cdots & x_{n,d}\n",
        "\\end{bmatrix}$$\n",
        "\n",
        "One way to include a bias is to augment $X$ with a column of ones:\n",
        "\n",
        "$$X =\n",
        "\\begin{bmatrix}\n",
        "    1 & x_{1,1}       & x_{1,2} & \\cdots & x_{1,d} \\\\\n",
        "    1 & x_{2,1}       & x_{2,2} & \\cdots & x_{2,d} \\\\\n",
        "    \\vdots  & \\vdots & \\vdots & \\ddots & \\vdots \\\\\n",
        "    1 & x_{n,1}       & x_{n,2} & \\cdots & x_{n,d}\n",
        "\\end{bmatrix}$$\n",
        "\n",
        "We also have $n$ labels corresponding to the correct classification of each of the above records, $y=[y_1,y_2,\\cdots ,y_{n}]^T$, i.e.:\n",
        "\n",
        "$$y =\n",
        "\\begin{bmatrix}\n",
        "    y_1  \\\\\n",
        "    y_2  \\\\\n",
        "    \\vdots   \\\\\n",
        "    y_{n} \n",
        "\\end{bmatrix}$$\n",
        "\n",
        "We will try to find the optimal parameter values $\\theta = [\\theta_0, \\theta_1, \\cdots, \\theta_d]^T$ of our linear regression model, where $\\theta_0$ is the bias weight. To simplify our notation, let\n",
        " \n",
        "$$\\hat{y} = X \\theta =\n",
        "\\begin{bmatrix}\n",
        "    X_{1,0}\\theta_0 + X_{1,1}\\theta_1 + \\cdots + X_{1,d}\\theta_d  \\\\\n",
        "    X_{2,0}\\theta_0 + X_{2,1}\\theta_1 + \\cdots + X_{2,d}\\theta_d  \\\\\n",
        "    \\vdots   \\\\\n",
        "    X_{n,0}\\theta_0 + X_{n,1}\\theta_1 + \\cdots + X_{n,d}\\theta_d \n",
        "\\end{bmatrix} =\n",
        "\\begin{bmatrix}\n",
        "    z_1  \\\\\n",
        "    z_2  \\\\\n",
        "    \\vdots   \\\\\n",
        "    z_{n}\n",
        "\\end{bmatrix}$$\n",
        "\n",
        "We seek $\\theta$ such that the MSE is minimized (the 1/2 factor makes the derivation easier). Let the MSE be a function of $\\theta, J(\\theta)$:\n",
        "\n",
        "$$J(\\theta) = \\frac{1}{2n} \\sum_{i=1}^{n} (\\hat{y}_i - y_i)^2$$\n",
        "\n",
        "Since the above is a convex function, it has a unique minimum value. Taking the derivative with respect to $\\theta_i$, we get:\n",
        "\n",
        "$$\\frac{\\partial}{\\partial\\theta_j}J(\\theta) = \\frac{1}{2n} \\sum_{i=1}^{n} \\frac{\\partial}{\\partial\\theta_j}(\\hat{y}_i - y_i)^2$$\n",
        "\n",
        "$$\\quad \\quad \\quad \\quad= \\frac{1}{n}\\sum_{i=1}^{n} (\\hat{y}_i - y_i) \\frac{\\partial}{\\partial\\theta_j} (\\hat{y}_i)$$\n",
        "\n",
        "Recall the chain rule from calculus, and that each $\\hat{y}_i$ is a funcion of the $\\theta_i$, so the above becomes:\n",
        "\n",
        "$$\\frac{\\partial}{\\partial\\theta_j}J(\\theta) = \\frac{1}{n} \\sum_{i=1}^{n} ( \\hat{y_i} - y_i)x_{i,j}$$\n",
        "\n",
        "YOU SHOULD: \n",
        "\n",
        "i) Get training and testing set by calling train_test_split()\n",
        "\n",
        "ii) Define a weight ($\\theta$) vector\n",
        "\n",
        "ii) Implement Gradient Descent using the information above\n",
        "\n",
        "iii) Record the Sum Squared Error for training and test data\n",
        "\n",
        "iv) Return the weight matrix, train errors and test errors\n",
        "\n",
        "v) Plot the training and test errors and comment on the plot."
      ]
    },
    {
      "cell_type": "code",
      "metadata": {
        "id": "ZM8kWvu9qntV",
        "colab_type": "code",
        "colab": {}
      },
      "source": [
        "'''\n",
        "Takes the target values and predicted values and calculates the squared error \n",
        "between them \n",
        "'''\n",
        "def mse(y_pred, y_true):\n",
        "    # YOUR CODE HERE\n",
        "    n = len(y_pred)\n",
        "    mse = (1/2)*(1/n)*np.sum((y_true-y_pred)**2)\n",
        "    return mse\n",
        "\n",
        "'''\n",
        "Implementation of the derivative of MSE.\n",
        "Returns a vector of derivations of loss with respect to each of the dimensions\n",
        "[\\partial loss / \\partial \\theta_j]\n",
        "'''\n",
        "def mse_derivative(X,y,theta):\n",
        "    # YOUR CODE HERE\n",
        "    h = np.dot(X, theta)\n",
        "    n = len(X)\n",
        "    return 1/n * np.dot((h-y), X)\n",
        "\n",
        "'''\n",
        "Gradient descent step. \n",
        "Takes X, y, theta vector, and alpha. \n",
        "Returns an updated theta vector.\n",
        "'''\n",
        "def gradient_descent_step(X,y, theta, alpha):\n",
        "    # YOUR CODE HERE\n",
        "    h = np.dot(X, theta)\n",
        "    theta = theta - alpha * mse_derivative(X, y, theta)\n",
        "    return theta\n",
        "\n",
        "\n",
        "def linear_regression(data, num_epochs=30000, alpha=0.00005):\n",
        "    # Get training and testing set by calling train_test_split()\n",
        "    # YOUR CODE HERE\n",
        "    X_train, y_train, X_test, y_test = train_test_split(data)\n",
        "\n",
        "    # Record training and test errors in lists\n",
        "    train_errors= []\n",
        "    test_errors= []\n",
        "\n",
        "    # Define theta\n",
        "    theta = np.zeros((X_train.shape[1]))\n",
        "\n",
        "    # Carry out training loop\n",
        "    for i in range(num_epochs):\n",
        "        train_error = mse(np.dot(X_train, theta), y_train)\n",
        "        train_errors.append(train_error)\n",
        "\n",
        "        test_error = mse(np.dot(X_test, theta), y_test)\n",
        "        test_errors.append(test_error)\n",
        "\n",
        "        # Do gradient descent on the training set\n",
        "        theta = gradient_descent_step(X_train, y_train, theta, alpha)\n",
        "    return theta, train_errors, test_errors"
      ],
      "execution_count": 255,
      "outputs": []
    },
    {
      "cell_type": "code",
      "metadata": {
        "id": "xu6NeHgMudA2",
        "colab_type": "code",
        "colab": {
          "base_uri": "https://localhost:8080/",
          "height": 513
        },
        "outputId": "2cd2e231-4b15-43a9-c8d3-aa430db766d7"
      },
      "source": [
        "# Carry out training task\n",
        "# YOUR CODE HERE\n",
        "theta, train_errors, test_errors = linear_regression(lr_data)\n",
        "\n",
        "\n",
        "# Plot the training error and test error for different epochs (iterations of the\n",
        "# algorithm). Your plot be MSE error vs epochs.\n",
        "# YOUR CODE HERE\n",
        "import matplotlib.pyplot as plt\n",
        "xaxis = np.arange(0, 30000, 1).tolist()\n",
        "plt.scatter(xaxis, train_errors)\n",
        "plt.show()\n",
        "plt.scatter(xaxis, test_errors)\n",
        "plt.show()"
      ],
      "execution_count": 256,
      "outputs": [
        {
          "output_type": "display_data",
          "data": {
            "image/png": "[encoded data removed]",
            "text/plain": [
              "<Figure size 432x288 with 1 Axes>"
            ]
          },
          "metadata": {
            "tags": [],
            "needs_background": "light"
          }
        },
        {
          "output_type": "display_data",
          "data": {
            "image/png": "[encoded data removed]",
            "text/plain": [
              "<Figure size 432x288 with 1 Axes>"
            ]
          },
          "metadata": {
            "tags": [],
            "needs_background": "light"
          }
        }
      ]
    },
    {
      "cell_type": "markdown",
      "metadata": {
        "id": "SCDbpvaZ3xN4",
        "colab_type": "text"
      },
      "source": [
        "### c) How did we do?\n",
        "\n",
        "Please comment on the performance of the model you trained on training and test sets."
      ]
    },
    {
      "cell_type": "markdown",
      "metadata": {
        "id": "K5xG45OV3mTp",
        "colab_type": "text"
      },
      "source": [
        "#### YOUR ANSWER HERE\n",
        "Both the training and test sets proved to perform relatively well as both approached a y value of 0. The test data looks like it was closer to 0 than the training data, however the test data begins an increasing trend as it approaches its later epochs and the training data continues a downward slope. "
      ]
    },
    {
      "cell_type": "markdown",
      "metadata": {
        "id": "1_LtDwYAov6R",
        "colab_type": "text"
      },
      "source": [
        "## Question 2\n",
        "---\n",
        "\n",
        "Data may not follow a linear relationship from the independent variable $X$ to the dependent variable $y$. Fitting a linear model to this would be inaccurate and yield a high loss. \n",
        "\n",
        "If we want to model an order $d$ polynomial relationship between $X$ and $y$ we can augment our initial linear model where instead of having:\n",
        "$$\n",
        "y_i = \\theta_0 + \\theta_1 x_i\n",
        "$$\n",
        "\n",
        "We have:\n",
        "\n",
        "$$\n",
        "y_i = \\theta_0 + \\theta_1 x_i + \\theta_2 x_i^2 + \\cdots + \\theta_d x_i^d\n",
        "$$\n",
        "\n",
        "We can use the same linear regression algorithm we if we first augment $X$ and add extra columns (or dimensions). \n",
        "\n",
        "$$ \\textbf X =\n",
        "\\begin{bmatrix}\n",
        "    x_{1}       & x_{1}^2 & \\cdots & x_{1}^d \\\\\n",
        "    x_{2}       & x_{2}^2 & \\cdots & x_{2}^d \\\\\n",
        "    \\vdots       & \\vdots & \\ddots & \\vdots \\\\\n",
        "    x_{n}       & x_{n}^2 & \\cdots & x_{n}^d\n",
        "\\end{bmatrix}$$\n",
        "\n",
        "Then our new higher order $\\hat y$ is computed same as before.\n",
        "\n",
        "$$ \\hat y =  X \\theta =\n",
        "\\begin{bmatrix}\n",
        "    1 & x_{1}       & x_{1}^2 & \\cdots & x_{1}^d \\\\\n",
        "    1 & x_{2}       & x_{2}^2 & \\cdots & x_{2}^d \\\\\n",
        "    \\vdots & \\vdots       & \\vdots & \\ddots & \\vdots \\\\\n",
        "    1 & x_{n}       & x_{n}^2 & \\cdots & x_{n}^d\n",
        "\\end{bmatrix}\n",
        "\\begin{bmatrix}\\theta_0 \\\\ \\theta_1 \\\\ \\vdots \\\\ \\theta_{d} \n",
        "\\end{bmatrix}=\n",
        "\\begin{bmatrix}\n",
        "    \\theta_0 + \\theta_1 x_{1} + \\theta_2 x_{1}^2 + \\cdots + \\theta_{d}  x_{1}^d \\\\\n",
        "    \\theta_0 + \\theta_1 x_{2} + \\theta_2 x_{2}^2 + \\cdots + \\theta_{d}  x_{2}^d  \\\\\n",
        "    \\vdots   \\\\\n",
        "    \\theta_0 + \\theta_1 x_{n} + \\theta_2 x_{n}^2 + \\cdots + \\theta_{d}  x_{n}^d\n",
        "\\end{bmatrix} \n",
        "= \\begin{bmatrix}\\hat y_1 \\\\ \\hat y_2 \\\\ \\vdots \\\\ \\hat y_{n} \n",
        "\\end{bmatrix}$$\n",
        "\n",
        "\n",
        "\n",
        "\n"
      ]
    },
    {
      "cell_type": "code",
      "metadata": {
        "id": "P8Y03UHppBB-",
        "colab_type": "code",
        "colab": {
          "base_uri": "https://localhost:8080/",
          "height": 265
        },
        "outputId": "b5320aa0-0b58-44d9-b78e-4201c3857e57"
      },
      "source": [
        "import numpy as np\n",
        "import matplotlib.pyplot as plt\n",
        "\n",
        "def normalize_data(data):\n",
        "    return (data - np.min(data))/(np.max(data) - np.min(data))\n",
        "\n",
        "np.random.seed(33)\n",
        "x = np.random.uniform(-10, 10, 1000)\n",
        "poly_coeffs = np.random.uniform(-1,1, size=(4,1))\n",
        "y = poly_coeffs[0] + poly_coeffs[1]*x + poly_coeffs[2]*(x ** 2) + poly_coeffs[3]*(x ** 3) + np.random.normal(0, 250, 1000)\n",
        "\n",
        "x = normalize_data(x)\n",
        "y = normalize_data(y)\n",
        "\n",
        "plt.scatter(x,y, s=10)\n",
        "plt.show()\n",
        "\n",
        "poly_data = np.hstack((x.reshape(-1,1),y.reshape(-1,1)))\n",
        "np.random.shuffle(poly_data)\n",
        "x = poly_data[:,0]\n",
        "y = poly_data[:,1]"
      ],
      "execution_count": 169,
      "outputs": [
        {
          "output_type": "display_data",
          "data": {
            "image/png": "[encoded data removed]",
            "text/plain": [
              "<Figure size 432x288 with 1 Axes>"
            ]
          },
          "metadata": {
            "tags": [],
            "needs_background": "light"
          }
        }
      ]
    },
    {
      "cell_type": "code",
      "metadata": {
        "colab_type": "code",
        "id": "8wyk6w5TwVH8",
        "colab": {}
      },
      "source": [
        "import numpy as np\n",
        "from sklearn.linear_model import LinearRegression"
      ],
      "execution_count": 170,
      "outputs": []
    },
    {
      "cell_type": "code",
      "metadata": {
        "id": "KkMVMvK4wWW-",
        "colab_type": "code",
        "colab": {}
      },
      "source": [
        "reg = LinearRegression().fit(x.reshape(-1,1), y)"
      ],
      "execution_count": 171,
      "outputs": []
    },
    {
      "cell_type": "code",
      "metadata": {
        "id": "MDrArx_rwWcJ",
        "colab_type": "code",
        "colab": {
          "base_uri": "https://localhost:8080/",
          "height": 265
        },
        "outputId": "643a2dfd-c970-4d41-b8bc-b88c6b58d096"
      },
      "source": [
        "def compute_line_from_regr(X_data, y_data, regr):\n",
        "    l_bound = np.min(X_data)\n",
        "    r_bound = np.max(X_data)\n",
        "    return [l_bound, r_bound], [l_bound * regr.coef_ + regr.intercept_, r_bound * regr.coef_ + regr.intercept_]\n",
        "\n",
        "plt.scatter(x,y, s=10)\n",
        "line_x, line_y = compute_line_from_regr(x.reshape(-1,1),y,reg)\n",
        "plt.plot(line_x, line_y, color='r')\n",
        "plt.show()"
      ],
      "execution_count": 172,
      "outputs": [
        {
          "output_type": "display_data",
          "data": {
            "image/png": "[encoded data removed]",
            "text/plain": [
              "<Figure size 432x288 with 1 Axes>"
            ]
          },
          "metadata": {
            "tags": [],
            "needs_background": "light"
          }
        }
      ]
    },
    {
      "cell_type": "markdown",
      "metadata": {
        "id": "crXLnJ2h7tBx",
        "colab_type": "text"
      },
      "source": [
        "As we see above, this data doesn't follow a linear relationship, it follows some complex polynomial. In the next section you'll try to fit a higher degree polynomial to it."
      ]
    },
    {
      "cell_type": "markdown",
      "metadata": {
        "id": "J2cxVyPq7Ua6",
        "colab_type": "text"
      },
      "source": [
        "## Weight regularization\n",
        "When we try to fit a d-order polynomial to our data, we could end up overfitting. This happens when you try to fit a higher dimensional curve than what the distribution of our data actually exhibits. We can mitigate this by choosing an order $d$ that matches your data closely, but often times this is not directly apperant in noisy data. Another method to avoid overfitting is **regularizing**, where you modify your loss to keep weights small which flattens our polynomial. This helps us avoid learning polynomials that are too complex for our data.\n",
        "\n",
        "To add regularization we modify our original loss function $J$ to include our regularizing term and a new hyperparameter that we tune $\\lambda$. This controls the amount of regularizing we impose on the weights. We use the loss computed from the validation set to tweak this parameter.\n",
        "\n",
        "$$\n",
        "J(\\theta)=\\frac{1}{2n}\\sum^{n}_{i=1}(h^{(i)}-y^{(i)})^2 + \\lambda \\sum^{d}_{j=1} \\theta^2_j\n",
        "$$\n",
        "\n",
        "Our gradient computation also changes:\n",
        "\n",
        "$$\n",
        "\\frac{\\partial}{\\partial\\theta_j}J(\\theta) = \\frac{1}{n} \\sum_{i=1}^{n} ( h^{(i)}-y^{(i)})x_{i,j}  + 2 \\lambda\\theta_j \n",
        "$$\n",
        "\n",
        "We apply this gradient the same way as before in our gradient descent algorithm:\n",
        "$$\n",
        " \\theta_j = \\theta_j - \\alpha \\frac{\\partial}{\\partial\\theta_j}J(\\theta)\n",
        "$$"
      ]
    },
    {
      "cell_type": "code",
      "metadata": {
        "id": "J-d6NbmBJL1O",
        "colab_type": "code",
        "colab": {}
      },
      "source": [
        "'''\n",
        "Takes raw data in and splits the data into \n",
        "X_train, y_train, X_test, y_test, X_val, y_val\n",
        "Returns X_train, y_train, X_test, y_test, X_val, y_val\n",
        "'''\n",
        "def train_test_validation_split(data, test_size=.20, validation_size=.20):\n",
        "    # YOUR CODE HERE\n",
        "    X, Y = separate_data(data)\n",
        "    split = int(len(X)*(1-test_size))\n",
        "    X_train = X[:split]\n",
        "    y_train = Y[:split]\n",
        "    X_temp = X[split:]\n",
        "    y_temp = Y[split:]\n",
        "    split2 = int(len(X_temp)*(1-validation_size))\n",
        "    X_test = X_temp[:split2]\n",
        "    y_test = y_temp[:split2]\n",
        "    X_val = X_temp[split2:]\n",
        "    y_val = y_temp[split2:]\n",
        "    return X_train, y_train, X_test, y_test, X_val, y_val\n"
      ],
      "execution_count": 270,
      "outputs": []
    },
    {
      "cell_type": "code",
      "metadata": {
        "id": "xc4wvXybwWfy",
        "colab_type": "code",
        "colab": {}
      },
      "source": [
        "'''\n",
        "Adds columns to your data up to the specified degree.\n",
        "Ex: If degree=3, (x) -> (x, x^2, x^3)\n",
        "'''\n",
        "def add_polycols(X,degree):\n",
        "    x_col = X[:,-1]\n",
        "\n",
        "    for i in range(2, degree+1):\n",
        "        X = np.hstack((X,(x_col**i).reshape(-1,1)))\n",
        "    return X\n",
        "\n",
        "'''\n",
        "Takes the target values and predicted values and calculates the absolute error \n",
        "between them \n",
        "'''\n",
        "def mse(y_pred, y_true):\n",
        "    n = len(y_pred)\n",
        "    mse = (1/2)*(1/n)*np.sum((y_pred-y_true)**2)\n",
        "    return mse\n",
        "\n",
        "'''\n",
        "Implementation of the derivative of MSE.\n",
        "Returns a vector of derivations of loss with respect to each of the dimensions\n",
        "[\\partial loss / \\partial \\theta_i]\n",
        "'''\n",
        "def mse_derivative(X,y,theta):\n",
        "    # YOUR CODE HERE\n",
        "    # Feel free to use your implementation from Q1\n",
        "    h = np.dot(X, theta)\n",
        "    n = len(X)\n",
        "    return 1/n * np.dot((h-y), X)\n",
        "\n",
        "'''\n",
        "Computes L2 norm from theta scaled by lambda.\n",
        "Returns a scalar L2 norm.\n",
        "'''\n",
        "def l2norm(theta, lamb):\n",
        "    # YOUR CODE HERE labmda * SUM(Theta squared)\n",
        "    norm = lamb * np.sum(theta**2)\n",
        "    return norm\n",
        "\n",
        "'''\n",
        "Computes derivative of L2 norm scaled by lambda.\n",
        "Returns a vector of derivative of L2 norms.\n",
        "'''\n",
        "def l2norm_derivative(theta, lamb):\n",
        "    # YOUR CODE HERE 2 * lambda Theta\n",
        "    # Note there is no regularization on the bias term.\n",
        "    norm_deriv = 2 * lamb * theta\n",
        "    return norm_deriv\n",
        "\n",
        "'''\n",
        "Computes total cost (cost function + regularization term)\n",
        "'''\n",
        "def compute_cost(X, y, theta, lamb):\n",
        "    # YOUR CODE HERE mse + weight regularization term\n",
        "    J = mse(np.dot(X, theta), y) + l2norm(theta, lamb)\n",
        "    return J\n",
        "\n",
        "'''\n",
        "Gradient descent step. \n",
        "Takes X, y, theta vector, and alpha. \n",
        "Returns an updated theta vector.\n",
        "'''\n",
        "def gradient_descent_step(X, y, theta, alpha, lamb):\n",
        "    # YOUR CODE HERE same as before but include 2 theta j\n",
        "    # This differs from your Q1 implementation\n",
        "    h = theta\n",
        "    theta = theta - alpha * (mse_derivative(X, y, h) + l2norm_derivative(h, lamb))\n",
        "    return theta\n",
        "\n",
        "\n",
        "def polynomial_regression(data, degree, num_epochs=100000, alpha=1e-4, lamb=0):\n",
        "    # Get training, testing, and validation sets by calling train_test_validation_split()\n",
        "    # YOUR CODE HERE\n",
        "    X_train, y_train, X_test, y_test, X_val, y_val = train_test_validation_split(data)\n",
        "\n",
        "    # Record training and validation errors in lists\n",
        "    train_errors = []\n",
        "    val_errors = []\n",
        "\n",
        "    # Add the appropriate amount of columns to each of your sets of data.\n",
        "    X_train = add_polycols(X_train, degree)\n",
        "    X_val = add_polycols(X_val, degree)\n",
        "    X_test = add_polycols(X_test, degree)\n",
        "\n",
        "    # Define theta\n",
        "    theta = np.zeros((X_train.shape[1]))\n",
        "    # Carry out training loop\n",
        "\n",
        "    for i in range(num_epochs):\n",
        "        h = theta\n",
        "        train_error = compute_cost(X_train, y_train, h, lamb)\n",
        "        train_errors.append(train_error)\n",
        "\n",
        "        val_error = compute_cost(X_val, y_val, h, lamb)\n",
        "        val_errors.append(val_error)\n",
        "        \n",
        "        # Do gradient descent on the training set\n",
        "        theta = gradient_descent_step(X_train, y_train, h, alpha, lamb)\n",
        "\n",
        "        # This prints the validation loss\n",
        "        if i % (num_epochs//10) == 0:\n",
        "            print(f'({i} epochs) Training loss: {train_error}, Validation loss: {val_error}') \n",
        "    print(f'({i} epochs) Final training loss: {train_error}, Final validation loss: {val_error}') \n",
        "    \n",
        "    # Compute the testing loss\n",
        "    h = theta\n",
        "    test_error = compute_cost(X_test, y_test, h, lamb)\n",
        "    print(f'Final testing loss: {test_error}')\n",
        "    return theta, train_errors, val_errors"
      ],
      "execution_count": 313,
      "outputs": []
    },
    {
      "cell_type": "markdown",
      "metadata": {
        "id": "CmyCKPqU8Qcw",
        "colab_type": "text"
      },
      "source": [
        "As we mentioned above, we use the validation set's loss to tweak our hyperparameters. Please carry out the training task while monitoring the validation loss and varying the polynomial order $d$ and regularization constant $\\lambda$. Your answer should get close to minimizing the validation and testing losses. "
      ]
    },
    {
      "cell_type": "code",
      "metadata": {
        "id": "5GQeUM84wWai",
        "colab_type": "code",
        "colab": {
          "base_uri": "https://localhost:8080/",
          "height": 241
        },
        "outputId": "80e780d5-7264-43de-b346-75da3bba935d"
      },
      "source": [
        "# degree d\n",
        "polynomial_order = 30\n",
        "\n",
        "# regularization constant lambda\n",
        "regularization_param = 0.000001\n",
        "\n",
        "theta, train_errors, val_errors = polynomial_regression(poly_data, polynomial_order, lamb=regularization_param, num_epochs=100000, alpha=1e-4)"
      ],
      "execution_count": 326,
      "outputs": [
        {
          "output_type": "stream",
          "text": [
            "(0 epochs) Training loss: 0.12385201320975156, Validation loss: 0.13657444406816216\n",
            "(10000 epochs) Training loss: 0.010849134704887662, Validation loss: 0.011026004910016514\n",
            "(20000 epochs) Training loss: 0.0061710515633215685, Validation loss: 0.007044926445003504\n",
            "(30000 epochs) Training loss: 0.005226771274791469, Validation loss: 0.00651717306700412\n",
            "(40000 epochs) Training loss: 0.004934858213491137, Validation loss: 0.006458994548602561\n",
            "(50000 epochs) Training loss: 0.004834717542985232, Validation loss: 0.006482835670782185\n",
            "(60000 epochs) Training loss: 0.004794143487999231, Validation loss: 0.006502558924847086\n",
            "(70000 epochs) Training loss: 0.004772872133499012, Validation loss: 0.0065063078722992435\n",
            "(80000 epochs) Training loss: 0.004758456333089812, Validation loss: 0.0064980917061792315\n",
            "(90000 epochs) Training loss: 0.004746931294103621, Validation loss: 0.006483173430610763\n",
            "(99999 epochs) Final training loss: 0.004736944009122915, Final validation loss: 0.006465275024274212\n",
            "Final testing loss: 0.003672719115341906\n"
          ],
          "name": "stdout"
        }
      ]
    },
    {
      "cell_type": "code",
      "metadata": {
        "id": "V-oAo20T3Tph",
        "colab_type": "code",
        "colab": {
          "base_uri": "https://localhost:8080/",
          "height": 265
        },
        "outputId": "4ed0ea7d-4d7c-4745-ca23-63908ae6a45f"
      },
      "source": [
        "# Call plot_results() to see how your polynomial fits.\n",
        "def plot_results(theta, X, Y):\n",
        "    y_hat = sum([t*X**i for i,t in enumerate(theta)])\n",
        "    plt.scatter(X, y_hat, s=10, color='r')\n",
        "    plt.scatter(X, Y, s=10)\n",
        "    plt.show()\n",
        "\n",
        "plot_results(theta, x, y)"
      ],
      "execution_count": 327,
      "outputs": [
        {
          "output_type": "display_data",
          "data": {
            "image/png": "[encoded data removed]",
            "text/plain": [
              "<Figure size 432x288 with 1 Axes>"
            ]
          },
          "metadata": {
            "tags": [],
            "needs_background": "light"
          }
        }
      ]
    }
  ]
}